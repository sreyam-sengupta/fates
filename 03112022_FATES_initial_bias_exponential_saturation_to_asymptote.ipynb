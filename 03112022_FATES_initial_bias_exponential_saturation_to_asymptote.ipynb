{
 "cells": [
  {
   "cell_type": "code",
   "execution_count": 52,
   "id": "5a522189",
   "metadata": {},
   "outputs": [
    {
     "data": {
      "text/html": [
       "<style>.container { width:100% !important; }</style>"
      ],
      "text/plain": [
       "<IPython.core.display.HTML object>"
      ]
     },
     "metadata": {},
     "output_type": "display_data"
    }
   ],
   "source": [
    "import math\n",
    "import numpy as np\n",
    "import scipy.special as sp\n",
    "import random as rand\n",
    "import pandas as pd\n",
    "import matplotlib.pyplot as plt\n",
    "from matplotlib.ticker import FuncFormatter\n",
    "from numba import jit,int64,float64\n",
    "import time\n",
    "import scipy.optimize as sciopt\n",
    "%matplotlib inline\n",
    "\n",
    "#To increase cell width:\n",
    "from IPython.display import display, HTML\n",
    "display(HTML(\"<style>.container { width:100% !important; }</style>\"))\n",
    "\n",
    "#Color-blind friendly colors to plot:\n",
    "CB_colors = ['#377eb8', '#ff7f00', '#4daf4a','#f781bf', '#a65628', '#984ea3','#999999', '#e41a1c', '#dede00']"
   ]
  },
  {
   "cell_type": "code",
   "execution_count": 43,
   "id": "90970159",
   "metadata": {},
   "outputs": [],
   "source": [
    "#Parameters - self-activation a, cross-repression r, decay k, noise alpha:\n",
    "a = np.array([0,0])\n",
    "r = np.array([1,1])\n",
    "k = np.array([1,1])\n",
    "alpha = np.array([0.01,0.01])\n",
    "#Hill coefficients:\n",
    "n = np.array([[4,4],[4,4]])\n",
    "theta = np.array([[0.5,0.5],[0.5,0.5]])\n",
    "\n",
    "#The total time and dt::\n",
    "T = 20\n",
    "dt = 0.002\n",
    "#Other time-related variables related to these two:\n",
    "Nt = round(T/dt)\n",
    "sqrt_dt = np.sqrt(dt)\n",
    "TimeRange = np.arange(0,T,dt)\n",
    "# #This is to calculate the dynamic threshold moving average:\n",
    "# timeBase = 2*int(Nt/100)\n",
    "# #Time to plot utility against:\n",
    "# time_trunc = TimeRange[int((timeBase/2)-1):-int(timeBase/2)]\n",
    "\n",
    "#Let's call num_traj the number of trajectories:\n",
    "num_traj = 10000\n",
    "\n",
    "#The initial conditions:\n",
    "x0 = np.zeros((2,num_traj))\n",
    "#Uniform around mean:\n",
    "init_bias = 0\n",
    "x0[0,:] = init_bias*np.ones(num_traj)\n",
    "\n",
    "#The threshold above which we say x_i is high:\n",
    "thresh = np.array([0.8,0.8])\n",
    "#The stability threshold; a trajectory has to stay above this:\n",
    "stability_thresh = 0.9\n",
    "\n",
    "#A minimum tolerance:\n",
    "eps = 1e-6"
   ]
  },
  {
   "cell_type": "code",
   "execution_count": 108,
   "id": "70ced77d",
   "metadata": {},
   "outputs": [],
   "source": [
    "#Self-activation:\n",
    "@jit(nopython=True)\n",
    "def activation(x,a,n,theta):\n",
    "    if (x>=0):\n",
    "        return (a*x**n)/(x**n + theta**n)\n",
    "    else:\n",
    "        return 0\n",
    "\n",
    "#Cross-inhibition\n",
    "@jit(nopython=True)\n",
    "def repression(x,r,n,theta):\n",
    "    if (x>0):\n",
    "        return (r*theta**n)/(x**n + theta**n)\n",
    "    else:\n",
    "        return 0\n",
    "\n",
    "#Bias (for external signals):\n",
    "@jit(nopython=True)\n",
    "def ext_bias(x1,x2,t):\n",
    "#     return (x1-x2,x2-x1)\n",
    "    temp = 0\n",
    "    return (temp,0)\n",
    "    \n",
    "#This solves the system fwd using simple Euler-Maruyama:\n",
    "@jit(nopython=True)\n",
    "def Solver(initial,a,r,k,n,theta,alpha):\n",
    "    final = np.empty((2,num_traj,Nt))\n",
    "    final[:,:,0] = initial\n",
    "    #Solving the system forward in time:\n",
    "    for i in range(num_traj):\n",
    "        for t in range(1,Nt):\n",
    "            #Equation for first species:\n",
    "            temp = np.sqrt(np.maximum(final[0,i,t-1],0.01))\n",
    "            noise = rand.normalvariate(0,alpha[0]*temp)\n",
    "            final[0,i,t] = final[0,i,t-1] + dt*(activation(final[0,i,t-1],a[0],n[0,0],theta[0,0]) \\\n",
    "                                               + repression(final[1,i,t-1],r[0],n[1,0],theta[1,0]) \\\n",
    "                                               - k[0]*final[0,i,t-1] + ext_bias(final[0,i,t-1],final[1,i,t-1],t)[0]) \\\n",
    "                                                + sqrt_dt*noise\n",
    "            #Equation for second:\n",
    "            temp = np.sqrt(np.maximum(final[1,i,t-1],0.01))\n",
    "            noise = rand.normalvariate(0,alpha[1]*temp)\n",
    "            final[1,i,t] = final[1,i,t-1] + dt*(activation(final[1,i,t-1],a[1],n[1,1],theta[1,1]) \\\n",
    "                                               + repression(final[0,i,t-1],r[1],n[0,1],theta[0,1]) \\\n",
    "                                               - k[1]*final[1,i,t-1] + ext_bias(final[0,i,t-1],final[1,i,t-1],t)[1]) \\\n",
    "                                                + sqrt_dt*noise\n",
    "    return final\n",
    "\n",
    "#This solves the system fwd using simple Euler-Maruyama:\n",
    "@jit(nopython=True)\n",
    "def Solver_dynamic_a_and_r(initial,a_dyn,r_dyn,k,n,theta,alpha):\n",
    "    final = np.empty((2,num_traj,Nt))\n",
    "    final[:,:,0] = initial\n",
    "    #Solving the system forward in time:\n",
    "    for i in range(num_traj):\n",
    "        for t in range(1,Nt):\n",
    "            #Setting the dynamic coefficients of auto-activation and cross-repression:\n",
    "            a = a_dyn[t,:]\n",
    "            r = r_dyn[t,:]\n",
    "            #Equation for first species:\n",
    "            temp = np.sqrt(np.maximum(final[0,i,t-1],0.01))\n",
    "            noise = rand.normalvariate(0,alpha[0]*temp)\n",
    "            final[0,i,t] = final[0,i,t-1] + dt*(activation(final[0,i,t-1],a[0],n[0,0],theta[0,0]) \\\n",
    "                                               + repression(final[1,i,t-1],r[0],n[1,0],theta[1,0]) \\\n",
    "                                               - k[0]*final[0,i,t-1] + ext_bias(final[0,i,t-1],final[1,i,t-1],t)[0]) \\\n",
    "                                                + sqrt_dt*noise\n",
    "            #Equation for second:\n",
    "            temp = np.sqrt(np.maximum(final[1,i,t-1],0.01))\n",
    "            noise = rand.normalvariate(0,alpha[1]*temp)\n",
    "            final[1,i,t] = final[1,i,t-1] + dt*(activation(final[1,i,t-1],a[1],n[1,1],theta[1,1]) \\\n",
    "                                               + repression(final[0,i,t-1],r[1],n[0,1],theta[0,1]) \\\n",
    "                                               - k[1]*final[1,i,t-1] + ext_bias(final[0,i,t-1],final[1,i,t-1],t)[1]) \\\n",
    "                                                + sqrt_dt*noise\n",
    "    return final\n",
    "\n",
    "#Classifier:\n",
    "# @jit(nopython=True)\n",
    "def fate_classifier(traj):\n",
    "    #Stability factor of trajectories:\n",
    "    cross_flags = np.zeros((2,num_traj))\n",
    "    cross_times = np.ones((2,num_traj))*Nt\n",
    "    for axis_idx in range(2):\n",
    "        #Axis crossings:\n",
    "        for traj_idx in range(num_traj):\n",
    "            if (np.size(np.where(traj[axis_idx,traj_idx]>thresh[axis_idx])[0]) != 0):\n",
    "                cross_flags[axis_idx,traj_idx] = 1\n",
    "                cross_times[axis_idx,traj_idx] = np.where(traj[axis_idx,traj_idx]>thresh[axis_idx])[0][0]\n",
    "                    \n",
    "    #Stability factor: after the threshold is crossed, how much time the traj spends above it:\n",
    "    stability_factrs = np.zeros((2,num_traj))\n",
    "    for axis_idx in range(2):\n",
    "        for traj_idx in range(num_traj):\n",
    "#             if (cross_flags[axis_idx,traj_idx]==0):\n",
    "#                 stability_factrs[axis_idx,traj_idx] = -1\n",
    "            if (cross_flags[axis_idx,traj_idx]==1):\n",
    "                stability_factrs[axis_idx,traj_idx] = np.sum(traj[axis_idx,traj_idx,int(cross_times[axis_idx,traj_idx]):]>thresh[axis_idx])\\\n",
    "                /len(traj[axis_idx,traj_idx,int(cross_times[axis_idx,traj_idx]):])\n",
    "    \n",
    "    #Stability threshold - trajectories that spend more than this above the concentration threshold are considered committed:\n",
    "#     stability_thresh = 0.8\n",
    "    #Classifying fates:\n",
    "    fates = np.zeros((2,num_traj))\n",
    "    for axis_idx in range(2):\n",
    "        for traj_idx in range(num_traj):\n",
    "            if (cross_times[axis_idx,traj_idx]<=int(Nt/2) and stability_factrs[axis_idx,traj_idx]>=stability_thresh):\n",
    "                fates[axis_idx,traj_idx]=1\n",
    "                \n",
    "    return stability_factrs,fates\n",
    "\n",
    "def fate_fractions(fates):\n",
    "    #Initializing:\n",
    "    fate_frax = np.zeros(4)\n",
    "    fate_frax[0] = np.sum((fates[0]==0) & (fates[1]==0))/num_traj\n",
    "    fate_frax[1] = np.sum((fates[0]==1) & (fates[1]==0))/num_traj\n",
    "    fate_frax[2] = np.sum((fates[0]==0) & (fates[1]==1))/num_traj\n",
    "    fate_frax[3] = np.sum((fates[0]==1) & (fates[1]==1))/num_traj\n",
    "    \n",
    "    return fate_frax\n",
    "\n",
    "def traj_moments(traj,fates):\n",
    "    #Finding the fate fractions first:\n",
    "    fate_frax = fate_fractions(fates)\n",
    "    \n",
    "    #Flags, if fate_frac is zero for a fate then no avg or std is calculated:\n",
    "    fate_flags = np.array([False for i in range(4)])\n",
    "    \n",
    "    #Flag = True if that fate exists in the population:\n",
    "    for fate_idx in range(4):\n",
    "        if (fate_frax[fate_idx] != 0):\n",
    "            fate_flags[fate_idx] = True\n",
    "            \n",
    "    #Average trajectories and standard deviation around them:\n",
    "    avg_traj = np.zeros((4,2,Nt))\n",
    "    std_traj = np.zeros((4,2,Nt))\n",
    "    \n",
    "    if (fate_flags[0]==True):\n",
    "        avg_traj[0,:,:] = np.mean(traj[:,(fates[0]==0) & (fates[1]==0),:],axis=1)\n",
    "        std_traj[0,:,:] = np.std(traj[:,(fates[0]==0) & (fates[1]==0),:],axis=1)\n",
    "\n",
    "    if (fate_flags[1]==True):\n",
    "        avg_traj[1,:,:] = np.mean(traj[:,(fates[0]==1) & (fates[1]==0),:],axis=1)\n",
    "        std_traj[1,:,:] = np.std(traj[:,(fates[0]==1) & (fates[1]==0),:],axis=1)\n",
    "\n",
    "    if (fate_flags[2]==True):\n",
    "        avg_traj[2,:,:] = np.mean(traj[:,(fates[0]==0) & (fates[1]==1),:],axis=1)\n",
    "        std_traj[2,:,:] = np.std(traj[:,(fates[0]==0) & (fates[1]==1),:],axis=1)\n",
    "\n",
    "    if (fate_flags[3]==True):\n",
    "        avg_traj[3,:,:] = np.mean(traj[:,(fates[0]==1) & (fates[1]==1),:],axis=1)\n",
    "        std_traj[3,:,:] = np.std(traj[:,(fates[0]==1) & (fates[1]==1),:],axis=1)\n",
    "        \n",
    "    return (avg_traj,std_traj)\n",
    "\n",
    "def logistic_sigmoid(x,height,pos,slope):\n",
    "    return height/(1 + np.exp(-slope*(x-pos)))\n",
    "\n",
    "def linear_fit(x,m,c):\n",
    "    return m*x+c"
   ]
  },
  {
   "cell_type": "code",
   "execution_count": 45,
   "id": "5d4549ba",
   "metadata": {},
   "outputs": [
    {
     "name": "stdout",
     "output_type": "stream",
     "text": [
      "Time taken: 17.748443841934204 s.\n"
     ]
    }
   ],
   "source": [
    "#Generating some trajectories:\n",
    "start_time = time.time()\n",
    "traj_simple = np.empty((2,num_traj,Nt))\n",
    "traj_simple = Solver(x0,a,r,k,n,theta,alpha)\n",
    "end_time = time.time()\n",
    "loop_time = end_time - start_time\n",
    "print(f\"Time taken: {loop_time} s.\")"
   ]
  },
  {
   "cell_type": "code",
   "execution_count": 46,
   "id": "d71570bb",
   "metadata": {},
   "outputs": [
    {
     "name": "stdout",
     "output_type": "stream",
     "text": [
      "[[1.         0.         0.         ... 1.         1.         0.        ]\n",
      " [0.         1.         1.         ... 0.         0.         0.99986835]]\n",
      "(4, 2, 10000)\n",
      "[0.0074 0.5059 0.4867 0.    ]\n"
     ]
    }
   ],
   "source": [
    "#Now testing the fates and stability factors:\n",
    "stability_factrs,fates = fate_classifier(traj_simple)\n",
    "fate_frax = fate_fractions(fates)\n",
    "avg_traj,std_traj = traj_moments(traj_simple,fates)\n",
    "#Fate fractions:\n",
    "print(stability_factrs)\n",
    "print(np.shape(avg_traj))\n",
    "print(fate_frax)"
   ]
  },
  {
   "cell_type": "code",
   "execution_count": 10,
   "id": "c9081a29",
   "metadata": {},
   "outputs": [
    {
     "data": {
      "text/plain": [
       "[<matplotlib.lines.Line2D at 0x7f5837590e80>]"
      ]
     },
     "execution_count": 10,
     "metadata": {},
     "output_type": "execute_result"
    },
    {
     "data": {
      "image/png": "[encoded data removed]",
      "text/plain": [
       "<Figure size 432x288 with 1 Axes>"
      ]
     },
     "metadata": {
      "needs_background": "light"
     },
     "output_type": "display_data"
    }
   ],
   "source": [
    "plt.plot(TimeRange,traj_simple[0,0])"
   ]
  },
  {
   "cell_type": "code",
   "execution_count": 48,
   "id": "ea53974b",
   "metadata": {},
   "outputs": [],
   "source": [
    "#Thetas, alphas and initial biases:\n",
    "thetas_arr = np.array([0.5])\n",
    "alphas_arr = np.array([0.01,0.02,0.05,0.1])\n",
    "init_bias_arr = np.array([0,0.01,0.02,0.05,0.1,0.15,0.2])\n",
    "\n",
    "#Stabilities and fate fractions:\n",
    "stabilities_mean_arr = np.zeros((len(alphas_arr),len(thetas_arr),2))\n",
    "stabilities_std_arr = np.zeros((len(alphas_arr),len(thetas_arr),2))\n",
    "fate_frax = np.zeros((len(alphas_arr),len(thetas_arr),len(init_bias_arr),4))\n",
    "\n",
    "for alpha_idx in range(len(alphas_arr)):\n",
    "    alpha[0] = alpha[1] = alphas_arr[alpha_idx]\n",
    "    for theta_idx in range(len(thetas_arr)):\n",
    "        #Setting theta:\n",
    "        theta[0,1] = theta[1,0] = thetas_arr[theta_idx]\n",
    "        for bias_idx in range(len(init_bias_arr)):\n",
    "            #Initial conditions:\n",
    "            x0 = np.zeros((2,num_traj))\n",
    "            x0[0,:] = init_bias_arr[bias_idx]*np.ones(num_traj)\n",
    "            #Evolving:\n",
    "            traj_alpha_theta_bias = Solver(x0,a,r,k,n,theta,alpha)\n",
    "            #Checking fates:\n",
    "            stability_factrs,fates = fate_classifier(traj_alpha_theta_bias)\n",
    "            fate_frax[alpha_idx,theta_idx,bias_idx] = fate_fractions(fates)\n",
    "            #Finding mean stabilities:\n",
    "            if (bias_idx==0):\n",
    "                for axis_idx in range(2):\n",
    "                    #If fate 1 or 2 are empty, i.e. every trajectory is undecided:\n",
    "                    if (stability_factrs[axis_idx,stability_factrs[axis_idx]>0].size==0):\n",
    "                        stabilities_mean_arr[alpha_idx,theta_idx,axis_idx] = 0\n",
    "                        stabilities_std_arr[alpha_idx,theta_idx,axis_idx] = 0\n",
    "                    else:\n",
    "                        stabilities_mean_arr[alpha_idx,theta_idx,axis_idx] = np.mean(stability_factrs[axis_idx,stability_factrs[axis_idx]>0])\n",
    "                        stabilities_std_arr[alpha_idx,theta_idx,axis_idx] = np.std(stability_factrs[axis_idx,stability_factrs[axis_idx]>0])"
   ]
  },
  {
   "cell_type": "code",
   "execution_count": 49,
   "id": "8cf483f9",
   "metadata": {},
   "outputs": [
    {
     "data": {
      "text/plain": [
       "array([[[[5.100e-03, 4.949e-01, 5.000e-01, 0.000e+00],\n",
       "         [4.000e-03, 8.055e-01, 1.905e-01, 0.000e+00],\n",
       "         [7.000e-04, 9.755e-01, 2.380e-02, 0.000e+00],\n",
       "         [0.000e+00, 1.000e+00, 0.000e+00, 0.000e+00],\n",
       "         [0.000e+00, 1.000e+00, 0.000e+00, 0.000e+00],\n",
       "         [0.000e+00, 1.000e+00, 0.000e+00, 0.000e+00],\n",
       "         [0.000e+00, 1.000e+00, 0.000e+00, 0.000e+00]]],\n",
       "\n",
       "\n",
       "       [[[2.600e-03, 4.991e-01, 4.983e-01, 0.000e+00],\n",
       "         [3.500e-03, 6.653e-01, 3.312e-01, 0.000e+00],\n",
       "         [2.500e-03, 8.421e-01, 1.554e-01, 0.000e+00],\n",
       "         [1.000e-04, 9.980e-01, 1.900e-03, 0.000e+00],\n",
       "         [0.000e+00, 1.000e+00, 0.000e+00, 0.000e+00],\n",
       "         [0.000e+00, 1.000e+00, 0.000e+00, 0.000e+00],\n",
       "         [0.000e+00, 1.000e+00, 0.000e+00, 0.000e+00]]],\n",
       "\n",
       "\n",
       "       [[[1.500e-03, 5.044e-01, 4.941e-01, 0.000e+00],\n",
       "         [1.700e-03, 5.691e-01, 4.292e-01, 0.000e+00],\n",
       "         [8.000e-04, 6.549e-01, 3.443e-01, 0.000e+00],\n",
       "         [2.000e-04, 8.547e-01, 1.451e-01, 0.000e+00],\n",
       "         [3.000e-04, 9.862e-01, 1.350e-02, 0.000e+00],\n",
       "         [0.000e+00, 9.996e-01, 4.000e-04, 0.000e+00],\n",
       "         [0.000e+00, 1.000e+00, 0.000e+00, 0.000e+00]]],\n",
       "\n",
       "\n",
       "       [[[2.500e-03, 4.993e-01, 4.982e-01, 0.000e+00],\n",
       "         [2.800e-03, 5.299e-01, 4.673e-01, 0.000e+00],\n",
       "         [2.400e-03, 5.711e-01, 4.265e-01, 0.000e+00],\n",
       "         [3.000e-03, 6.978e-01, 2.992e-01, 0.000e+00],\n",
       "         [1.700e-03, 8.660e-01, 1.323e-01, 0.000e+00],\n",
       "         [1.500e-03, 9.570e-01, 4.150e-02, 0.000e+00],\n",
       "         [1.000e-03, 9.917e-01, 7.300e-03, 0.000e+00]]]])"
      ]
     },
     "execution_count": 49,
     "metadata": {},
     "output_type": "execute_result"
    }
   ],
   "source": [
    "fate_frax"
   ]
  },
  {
   "cell_type": "code",
   "execution_count": 50,
   "id": "7365cda5",
   "metadata": {},
   "outputs": [
    {
     "data": {
      "text/plain": [
       "<matplotlib.collections.PathCollection at 0x7f91b52520d0>"
      ]
     },
     "execution_count": 50,
     "metadata": {},
     "output_type": "execute_result"
    },
    {
     "data": {
      "image/png": "[encoded data removed]",
      "text/plain": [
       "<Figure size 432x288 with 1 Axes>"
      ]
     },
     "metadata": {
      "needs_background": "light"
     },
     "output_type": "display_data"
    }
   ],
   "source": [
    "plt.scatter(init_bias_arr,fate_frax[0,0,:,1])\n",
    "plt.scatter(init_bias_arr,fate_frax[1,0,:,1])\n",
    "plt.scatter(init_bias_arr,fate_frax[2,0,:,1])\n",
    "plt.scatter(init_bias_arr,fate_frax[3,0,:,1])"
   ]
  },
  {
   "cell_type": "code",
   "execution_count": 119,
   "id": "65d0ab9d",
   "metadata": {},
   "outputs": [
    {
     "data": {
      "image/png": "[encoded data removed]",
      "text/plain": [
       "<Figure size 460.8x345.6 with 1 Axes>"
      ]
     },
     "metadata": {
      "needs_background": "light"
     },
     "output_type": "display_data"
    }
   ],
   "source": [
    "#The parameters of the sigmoids, for different values of noise:\n",
    "sigmoid_params = np.zeros((len(alphas_arr),3))\n",
    "bias_axis = np.linspace(0,0.2,num=50)\n",
    "\n",
    "plt.figure(figsize=[6.4,4.8])\n",
    "\n",
    "for alpha_idx in range(len(alphas_arr)):\n",
    "    popt,pcov = sciopt.curve_fit(logistic_sigmoid,init_bias_arr,fate_frax[alpha_idx,0,:,1],p0=([1,0.5,1]))\n",
    "    sigmoid_params[alpha_idx] = popt\n",
    "    plt.scatter(init_bias_arr,fate_frax[alpha_idx,0,:,1],color=CB_colors[-alpha_idx],label=fr'noise = {alphas_arr[alpha_idx]}')\n",
    "    plt.plot(bias_axis,logistic_sigmoid(bias_axis,*popt),color=CB_colors[-alpha_idx],ls='--',label=f'steepness = {np.round(sigmoid_params[alpha_idx,2],2)}')\n",
    "    \n",
    "plt.xlabel('Initial bias $\\delta_x$',fontsize=18)\n",
    "plt.ylabel(f'Share of fate $x$',fontsize=18)\n",
    "plt.title(f'Fate share of $x$ vs. initial $\\delta_x$',fontsize=20)\n",
    "plt.legend(loc=\"best\",fontsize=12)\n",
    "plt.savefig('03112022_FATES_initial_bias_fatefrac_vs_bias.pdf')"
   ]
  },
  {
   "cell_type": "code",
   "execution_count": 107,
   "id": "8492d9c9",
   "metadata": {},
   "outputs": [
    {
     "data": {
      "text/plain": [
       "array([0.65661719, 0.61733623, 0.57604336, 0.58257622])"
      ]
     },
     "execution_count": 107,
     "metadata": {},
     "output_type": "execute_result"
    }
   ],
   "source": [
    "1/(sigmoid_params[:,2]*alphas_arr)"
   ]
  },
  {
   "cell_type": "code",
   "execution_count": 131,
   "id": "a66930eb",
   "metadata": {},
   "outputs": [
    {
     "data": {
      "text/plain": [
       "array([0.00026484, 0.00061389, 0.00135643, 0.00614897])"
      ]
     },
     "execution_count": 131,
     "metadata": {},
     "output_type": "execute_result"
    }
   ],
   "source": [
    "sigmoid_params[:,1]"
   ]
  },
  {
   "cell_type": "code",
   "execution_count": 129,
   "id": "d9de6674",
   "metadata": {},
   "outputs": [
    {
     "data": {
      "image/png": "[encoded data removed]",
      "text/plain": [
       "<Figure size 460.8x345.6 with 1 Axes>"
      ]
     },
     "metadata": {
      "needs_background": "light"
     },
     "output_type": "display_data"
    }
   ],
   "source": [
    "plt.figure(figsize=[6.4,4.8])\n",
    "plt.scatter(alphas_arr,1/sigmoid_params[:,2],color='k')\n",
    "\n",
    "popt,pcov = sciopt.curve_fit(linear_fit,alphas_arr,1/sigmoid_params[:,2],p0=([0.6,0]))\n",
    "\n",
    "plt.plot(np.linspace(0.01,0.1,num=20),linear_fit(np.linspace(0.01,0.1,num=20),*popt),'k--',label=f'best fit, slope = {np.round(popt[0],2)}')\n",
    "\n",
    "plt.xlabel(r'Noise $\\alpha$',fontsize=18)\n",
    "plt.ylabel(r'$\\mathrm{steepness}^{-1}$',fontsize=18)\n",
    "plt.title(r'$\\mathrm{steepness}^{-1}$ vs. noise',fontsize=20)\n",
    "plt.legend(loc=\"best\",fontsize=12)\n",
    "plt.savefig('03112022_FATES_initial_bias_steepness_bias_relation.pdf')"
   ]
  },
  {
   "cell_type": "code",
   "execution_count": null,
   "id": "bb6bcd1f",
   "metadata": {},
   "outputs": [],
   "source": []
  }
 ],
 "metadata": {
  "kernelspec": {
   "display_name": "Python 3 (ipykernel)",
   "language": "python",
   "name": "python3"
  },
  "language_info": {
   "codemirror_mode": {
    "name": "ipython",
    "version": 3
   },
   "file_extension": ".py",
   "mimetype": "text/x-python",
   "name": "python",
   "nbconvert_exporter": "python",
   "pygments_lexer": "ipython3",
   "version": "3.9.12"
  }
 },
 "nbformat": 4,
 "nbformat_minor": 5
}
