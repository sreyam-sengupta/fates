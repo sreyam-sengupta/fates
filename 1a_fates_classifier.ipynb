{
 "cells": [
  {
   "cell_type": "code",
   "execution_count": 12,
   "id": "5a522189",
   "metadata": {},
   "outputs": [
    {
     "data": {
      "text/html": [
       "<style>.container { width:100% !important; }</style>"
      ],
      "text/plain": [
       "<IPython.core.display.HTML object>"
      ]
     },
     "metadata": {},
     "output_type": "display_data"
    }
   ],
   "source": [
    "import math\n",
    "import numpy as np\n",
    "import scipy.special as sp\n",
    "import random as rand\n",
    "import pandas as pd\n",
    "import matplotlib.pyplot as plt\n",
    "from matplotlib.ticker import FuncFormatter\n",
    "from numba import jit,int64,float64\n",
    "import time\n",
    "import scipy.optimize as sciopt\n",
    "%matplotlib inline\n",
    "\n",
    "#To increase cell width:\n",
    "from IPython.display import display, HTML\n",
    "display(HTML(\"<style>.container { width:100% !important; }</style>\"))\n",
    "\n",
    "#Color-blind friendly colors to plot:\n",
    "CB_color_cycle = ['#377eb8', '#ff7f00', '#4daf4a','#f781bf', '#a65628', '#984ea3','#999999', '#e41a1c', '#dede00']\n",
    "\n",
    "#Running the script with parameter definitions and functions:\n",
    "%run fates_functions.py"
   ]
  },
  {
   "cell_type": "code",
   "execution_count": 9,
   "id": "90970159",
   "metadata": {},
   "outputs": [],
   "source": [
    "# #Parameters - self-activation a, cross-repression r, decay k, noise alpha:\n",
    "# a = np.array([0,0])\n",
    "# r = np.array([1,1])\n",
    "# k = np.array([1,1])\n",
    "# alpha = np.array([0.5,0.5])\n",
    "# #Hill coefficients:\n",
    "# n = np.array([[4,4],[4,4]])\n",
    "# theta = np.array([[0.5,0.5],[0.5,0.5]])\n",
    "\n",
    "# #The total time and dt::\n",
    "# T = 20\n",
    "# dt = 0.005\n",
    "# #Other time-related variables related to these two:\n",
    "# Nt = int(T/dt)\n",
    "# sqrt_dt = np.sqrt(dt)\n",
    "# TimeRange = np.arange(0,T,dt)\n",
    "# # #This is to calculate the dynamic threshold moving average:\n",
    "# # timeBase = 2*int(Nt/100)\n",
    "# # #Time to plot utility against:\n",
    "# # time_trunc = TimeRange[int((timeBase/2)-1):-int(timeBase/2)]\n",
    "\n",
    "# #Let's call num_traj the number of trajectories:\n",
    "# num_traj = 10000\n",
    "\n",
    "# #The initial conditions:\n",
    "# x0 = np.zeros((2,num_traj))\n",
    "# #Uniform around mean:\n",
    "# init_bias = 0\n",
    "# x0[0,:] = init_bias*np.ones(num_traj)\n",
    "\n",
    "# #The threshold above which we say x_i is high:\n",
    "# thresh = np.array([0.8,0.8])\n",
    "\n",
    "# #Color-blind friendly colors to plot:\n",
    "# CB_color_cycle = ['#377eb8', '#ff7f00', '#4daf4a','#f781bf', '#a65628', '#984ea3','#999999', '#e41a1c', '#dede00']"
   ]
  },
  {
   "cell_type": "code",
   "execution_count": 10,
   "id": "70ced77d",
   "metadata": {},
   "outputs": [],
   "source": [
    "# #Self-activation:\n",
    "# @jit(nopython=True)\n",
    "# def activation(x,a,n,theta):\n",
    "#     if (x>=0):\n",
    "#         return (a*x**n)/(x**n + theta**n)\n",
    "#     else:\n",
    "#         return 0\n",
    "\n",
    "# #Cross-inhibition\n",
    "# @jit(nopython=True)\n",
    "# def repression(x,r,n,theta):\n",
    "#     if (x>0):\n",
    "#         return (r*theta**n)/(x**n + theta**n)\n",
    "#     else:\n",
    "#         return 0\n",
    "\n",
    "# #Bias (for external signals):\n",
    "# @jit(nopython=True)\n",
    "# def ext_bias(x1,x2,t):\n",
    "# #     return (x1-x2,x2-x1)\n",
    "#     temp = 0\n",
    "#     return (temp,0)\n",
    "    \n",
    "# #This solves the system fwd using simple Euler-Maruyama:\n",
    "# @jit(nopython=True)\n",
    "# def Solver(initial,a,r,k,n,theta,alpha):\n",
    "#     final = np.empty((2,num_traj,Nt))\n",
    "#     final[:,:,0] = initial\n",
    "#     #Solving the system forward in time:\n",
    "#     for i in range(num_traj):\n",
    "#         for t in range(1,Nt):\n",
    "#             #Equation for first species:\n",
    "#             temp = np.sqrt(np.maximum(final[0,i,t-1],0.01))\n",
    "#             noise = rand.normalvariate(0,alpha[0]*temp)\n",
    "#             final[0,i,t] = final[0,i,t-1] + dt*(activation(final[0,i,t-1],a[0],n[0,0],theta[0,0]) \\\n",
    "#                                                + repression(final[1,i,t-1],r[0],n[1,0],theta[1,0]) \\\n",
    "#                                                - k[0]*final[0,i,t-1] + ext_bias(final[0,i,t-1],final[1,i,t-1],t)[0]) \\\n",
    "#                                                 + sqrt_dt*noise\n",
    "#             #Equation for second:\n",
    "#             temp = np.sqrt(np.maximum(final[1,i,t-1],0.01))\n",
    "#             noise = rand.normalvariate(0,alpha[1]*temp)\n",
    "#             final[1,i,t] = final[1,i,t-1] + dt*(activation(final[1,i,t-1],a[1],n[1,1],theta[1,1]) \\\n",
    "#                                                + repression(final[0,i,t-1],r[1],n[0,1],theta[0,1]) \\\n",
    "#                                                - k[1]*final[1,i,t-1] + ext_bias(final[0,i,t-1],final[1,i,t-1],t)[1]) \\\n",
    "#                                                 + sqrt_dt*noise\n",
    "#     return final\n",
    "\n",
    "# #Classifier:\n",
    "# # @jit(nopython=True)\n",
    "# def fate_classifier(traj,thresh):\n",
    "#     #Stability factor of trajectories:\n",
    "#     cross_flags = np.zeros((2,num_traj))\n",
    "#     cross_times = np.ones((2,num_traj))*Nt\n",
    "#     for axis_idx in range(2):\n",
    "#         #Axis crossings:\n",
    "#         for traj_idx in range(num_traj):\n",
    "#             if (np.size(np.where(traj[axis_idx,traj_idx]>thresh[axis_idx])[0]) != 0):\n",
    "#                 cross_flags[axis_idx,traj_idx] = 1\n",
    "#                 cross_times[axis_idx,traj_idx] = np.where(traj[axis_idx,traj_idx]>thresh[axis_idx])[0][0]\n",
    "                    \n",
    "#     #Stability factor: after the threshold is crossed, how much time the traj spends above it:\n",
    "#     stability_factrs = np.zeros((2,num_traj))\n",
    "#     for axis_idx in range(2):\n",
    "#         for traj_idx in range(num_traj):\n",
    "# #             if (cross_flags[axis_idx,traj_idx]==0):\n",
    "# #                 stability_factrs[axis_idx,traj_idx] = -1\n",
    "#             if (cross_flags[axis_idx,traj_idx]==1):\n",
    "#                 stability_factrs[axis_idx,traj_idx] = np.sum(traj[axis_idx,traj_idx,int(cross_times[axis_idx,traj_idx]):]>thresh[axis_idx])\\\n",
    "#                 /len(traj[axis_idx,traj_idx,int(cross_times[axis_idx,traj_idx]):])\n",
    "    \n",
    "#     #Stability threshold - trajectories that spend more than this above the concentration threshold are considered committed:\n",
    "#     stability_thresh = 0.8\n",
    "#     #Classifying fates:\n",
    "#     fates = np.zeros((2,num_traj))\n",
    "#     for axis_idx in range(2):\n",
    "#         for traj_idx in range(num_traj):\n",
    "#             if (cross_times[axis_idx,traj_idx]<=int(Nt/2) and stability_factrs[axis_idx,traj_idx]>=stability_thresh):\n",
    "#                 fates[axis_idx,traj_idx]=1\n",
    "                \n",
    "#     return stability_factrs,fates"
   ]
  },
  {
   "cell_type": "code",
   "execution_count": 11,
   "id": "5d4549ba",
   "metadata": {},
   "outputs": [
    {
     "name": "stdout",
     "output_type": "stream",
     "text": [
      "Time taken: 6.970474481582642 s.\n"
     ]
    }
   ],
   "source": [
    "#Generating some trajectories:\n",
    "start_time = time.time()\n",
    "traj_simple = np.empty((2,num_traj,Nt))\n",
    "traj_simple = Solver(x0,a,r,k,n,theta,alpha)\n",
    "end_time = time.time()\n",
    "loop_time = end_time - start_time\n",
    "print(f\"Time taken: {loop_time} s.\")"
   ]
  },
  {
   "cell_type": "code",
   "execution_count": 13,
   "id": "d71570bb",
   "metadata": {},
   "outputs": [],
   "source": [
    "stability_factrs,fates = fate_classifier(traj_simple)"
   ]
  },
  {
   "cell_type": "code",
   "execution_count": 14,
   "id": "214bbc97",
   "metadata": {},
   "outputs": [
    {
     "data": {
      "text/plain": [
       "array([[0., 0., 1., ..., 0., 0., 0.],\n",
       "       [1., 1., 0., ..., 1., 1., 1.]])"
      ]
     },
     "execution_count": 14,
     "metadata": {},
     "output_type": "execute_result"
    }
   ],
   "source": [
    "fates"
   ]
  },
  {
   "cell_type": "code",
   "execution_count": 15,
   "id": "470c2761",
   "metadata": {},
   "outputs": [
    {
     "data": {
      "text/plain": [
       "0.5028"
      ]
     },
     "execution_count": 15,
     "metadata": {},
     "output_type": "execute_result"
    }
   ],
   "source": [
    "np.sum(fates[1])/num_traj"
   ]
  },
  {
   "cell_type": "code",
   "execution_count": 16,
   "id": "a4445fb9",
   "metadata": {},
   "outputs": [
    {
     "data": {
      "text/plain": [
       "array([[0.        , 0.        , 0.99968193, ..., 0.        , 0.        ,\n",
       "        0.        ],\n",
       "       [0.99563446, 0.99841772, 0.        , ..., 0.99788071, 1.        ,\n",
       "        1.        ]])"
      ]
     },
     "execution_count": 16,
     "metadata": {},
     "output_type": "execute_result"
    }
   ],
   "source": [
    "stability_factrs"
   ]
  },
  {
   "cell_type": "code",
   "execution_count": 18,
   "id": "d54bc38f",
   "metadata": {},
   "outputs": [
    {
     "data": {
      "text/plain": [
       "(array([5.035e+03, 0.000e+00, 0.000e+00, 0.000e+00, 0.000e+00, 0.000e+00,\n",
       "        0.000e+00, 0.000e+00, 0.000e+00, 0.000e+00, 0.000e+00, 0.000e+00,\n",
       "        0.000e+00, 0.000e+00, 0.000e+00, 0.000e+00, 0.000e+00, 0.000e+00,\n",
       "        0.000e+00, 0.000e+00, 0.000e+00, 0.000e+00, 0.000e+00, 0.000e+00,\n",
       "        0.000e+00, 0.000e+00, 0.000e+00, 0.000e+00, 0.000e+00, 0.000e+00,\n",
       "        0.000e+00, 0.000e+00, 0.000e+00, 0.000e+00, 0.000e+00, 0.000e+00,\n",
       "        0.000e+00, 0.000e+00, 0.000e+00, 0.000e+00, 0.000e+00, 0.000e+00,\n",
       "        0.000e+00, 0.000e+00, 0.000e+00, 0.000e+00, 0.000e+00, 2.000e+00,\n",
       "        4.000e+01, 4.923e+03]),\n",
       " array([0.  , 0.02, 0.04, 0.06, 0.08, 0.1 , 0.12, 0.14, 0.16, 0.18, 0.2 ,\n",
       "        0.22, 0.24, 0.26, 0.28, 0.3 , 0.32, 0.34, 0.36, 0.38, 0.4 , 0.42,\n",
       "        0.44, 0.46, 0.48, 0.5 , 0.52, 0.54, 0.56, 0.58, 0.6 , 0.62, 0.64,\n",
       "        0.66, 0.68, 0.7 , 0.72, 0.74, 0.76, 0.78, 0.8 , 0.82, 0.84, 0.86,\n",
       "        0.88, 0.9 , 0.92, 0.94, 0.96, 0.98, 1.  ]),\n",
       " <BarContainer object of 50 artists>)"
      ]
     },
     "execution_count": 18,
     "metadata": {},
     "output_type": "execute_result"
    },
    {
     "data": {
      "image/png": "[encoded data removed]",
      "text/plain": [
       "<Figure size 432x288 with 1 Axes>"
      ]
     },
     "metadata": {
      "needs_background": "light"
     },
     "output_type": "display_data"
    }
   ],
   "source": [
    "plt.hist(stability_factrs[0],bins=50)"
   ]
  }
 ],
 "metadata": {
  "kernelspec": {
   "display_name": "Python 3 (ipykernel)",
   "language": "python",
   "name": "python3"
  },
  "language_info": {
   "codemirror_mode": {
    "name": "ipython",
    "version": 3
   },
   "file_extension": ".py",
   "mimetype": "text/x-python",
   "name": "python",
   "nbconvert_exporter": "python",
   "pygments_lexer": "ipython3",
   "version": "3.9.12"
  }
 },
 "nbformat": 4,
 "nbformat_minor": 5
}
