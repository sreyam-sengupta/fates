{
 "cells": [
  {
   "cell_type": "code",
   "execution_count": 2,
   "id": "5a522189",
   "metadata": {},
   "outputs": [
    {
     "data": {
      "text/html": [
       "<style>.container { width:100% !important; }</style>"
      ],
      "text/plain": [
       "<IPython.core.display.HTML object>"
      ]
     },
     "metadata": {},
     "output_type": "display_data"
    }
   ],
   "source": [
    "import math\n",
    "import numpy as np\n",
    "import scipy.special as sp\n",
    "import random as rand\n",
    "import pandas as pd\n",
    "import matplotlib.pyplot as plt\n",
    "from matplotlib.ticker import FuncFormatter\n",
    "from numba import jit,int64,float64\n",
    "import time\n",
    "import scipy.optimize as sciopt\n",
    "%matplotlib inline\n",
    "\n",
    "#To increase cell width:\n",
    "from IPython.display import display, HTML\n",
    "display(HTML(\"<style>.container { width:100% !important; }</style>\"))\n",
    "\n",
    "#Color-blind friendly colors to plot:\n",
    "CB_color_cycle = ['#377eb8', '#ff7f00', '#4daf4a','#f781bf', '#a65628', '#984ea3','#999999', '#e41a1c', '#dede00']"
   ]
  },
  {
   "cell_type": "code",
   "execution_count": 3,
   "id": "10454c24",
   "metadata": {},
   "outputs": [],
   "source": [
    "#Plot template\n",
    "\n",
    "# fig,ax = plt.subplots(1,1)\n",
    "# ax.scatter(alphas_arr,stabilities_arr[:,0],c=CB_color_cycle[0],marker=\">\",label=\"fate 1\")\n",
    "# ax.scatter(alphas_arr,stabilities_arr[:,1],c=CB_color_cycle[1],marker=\"<\",label=\"fate 2\",alpha=1)\n",
    "# ax.axhline(y=stability_thresh,c=\"k\",ls=\"--\",label=\"threshold\")\n",
    "# ax.tick_params(axis='both', which='major', labelsize=12)\n",
    "# ax.tick_params(axis='both', which='minor', labelsize=10)\n",
    "# ax.set_xlabel(r\"Noise coefficient $\\alpha$\",fontsize=18)\n",
    "# ax.set_ylabel(r\"Mean stability factor\",fontsize=18)\n",
    "# ax.legend(loc=\"best\",fontsize=12)\n",
    "# ax.set_title(f\"Stability vs. noise\",fontsize=20)\n",
    "# fig.savefig(\"1b_stability_vs_noise.svg\",format=\"svg\")\n",
    "\n"
   ]
  },
  {
   "cell_type": "code",
   "execution_count": 4,
   "id": "90970159",
   "metadata": {},
   "outputs": [],
   "source": [
    "#Parameters - self-activation a, cross-repression r, decay k, noise alpha:\n",
    "a = np.array([0,0])\n",
    "r = np.array([1,1])\n",
    "k = np.array([1,1])\n",
    "alpha = np.array([0.01,0.01])\n",
    "#Hill coefficients:\n",
    "n = np.array([[4,4],[4,4]])\n",
    "theta = np.array([[0.5,0.5],[0.5,0.5]])\n",
    "\n",
    "#The total time and dt::\n",
    "T = 40\n",
    "dt = 0.005\n",
    "#Other time-related variables related to these two:\n",
    "Nt = int(T/dt)\n",
    "sqrt_dt = np.sqrt(dt)\n",
    "TimeRange = np.arange(0,T,dt)\n",
    "# #This is to calculate the dynamic threshold moving average:\n",
    "# timeBase = 2*int(Nt/100)\n",
    "# #Time to plot utility against:\n",
    "# time_trunc = TimeRange[int((timeBase/2)-1):-int(timeBase/2)]\n",
    "\n",
    "#Let's call num_traj the number of trajectories:\n",
    "num_traj = 10000\n",
    "\n",
    "#The initial conditions:\n",
    "x0 = np.zeros((2,num_traj))\n",
    "#Uniform around mean:\n",
    "init_bias = 0\n",
    "x0[0,:] = init_bias*np.ones(num_traj)\n",
    "\n",
    "#The threshold above which we say x_i is high:\n",
    "thresh = np.array([0.8,0.8])\n",
    "#The stability threshold; a trajectory has to stay above this:\n",
    "stability_thresh = 0.9\n",
    "\n",
    "#Color-blind friendly colors to plot:\n",
    "CB_color_cycle = ['#377eb8', '#ff7f00', '#4daf4a','#f781bf', '#a65628', '#984ea3','#999999', '#e41a1c', '#dede00']"
   ]
  },
  {
   "cell_type": "code",
   "execution_count": 4,
   "id": "70ced77d",
   "metadata": {},
   "outputs": [],
   "source": [
    "#Self-activation:\n",
    "@jit(nopython=True)\n",
    "def activation(x,a,n,theta):\n",
    "    if (x>=0):\n",
    "        return (a*x**n)/(x**n + theta**n)\n",
    "    else:\n",
    "        return 0\n",
    "\n",
    "#Cross-inhibition\n",
    "@jit(nopython=True)\n",
    "def repression(x,r,n,theta):\n",
    "    if (x>0):\n",
    "        return (r*theta**n)/(x**n + theta**n)\n",
    "    else:\n",
    "        return 0\n",
    "\n",
    "#Bias (for external signals):\n",
    "@jit(nopython=True)\n",
    "def ext_bias(x1,x2,t):\n",
    "#     return (x1-x2,x2-x1)\n",
    "    temp = 0\n",
    "    return (temp,0)\n",
    "    \n",
    "#This solves the system fwd using simple Euler-Maruyama:\n",
    "@jit(nopython=True)\n",
    "def Solver(initial,a,r,k,n,theta,alpha):\n",
    "    final = np.empty((2,num_traj,Nt))\n",
    "    final[:,:,0] = initial\n",
    "    #Solving the system forward in time:\n",
    "    for i in range(num_traj):\n",
    "        for t in range(1,Nt):\n",
    "            #Equation for first species:\n",
    "            temp = np.sqrt(np.maximum(final[0,i,t-1],0.01))\n",
    "            noise = rand.normalvariate(0,alpha[0]*temp)\n",
    "            final[0,i,t] = final[0,i,t-1] + dt*(activation(final[0,i,t-1],a[0],n[0,0],theta[0,0]) \\\n",
    "                                               + repression(final[1,i,t-1],r[0],n[1,0],theta[1,0]) \\\n",
    "                                               - k[0]*final[0,i,t-1] + ext_bias(final[0,i,t-1],final[1,i,t-1],t)[0]) \\\n",
    "                                                + sqrt_dt*noise\n",
    "            #Equation for second:\n",
    "            temp = np.sqrt(np.maximum(final[1,i,t-1],0.01))\n",
    "            noise = rand.normalvariate(0,alpha[1]*temp)\n",
    "            final[1,i,t] = final[1,i,t-1] + dt*(activation(final[1,i,t-1],a[1],n[1,1],theta[1,1]) \\\n",
    "                                               + repression(final[0,i,t-1],r[1],n[0,1],theta[0,1]) \\\n",
    "                                               - k[1]*final[1,i,t-1] + ext_bias(final[0,i,t-1],final[1,i,t-1],t)[1]) \\\n",
    "                                                + sqrt_dt*noise\n",
    "    return final\n",
    "\n",
    "#Classifier:\n",
    "# @jit(nopython=True)\n",
    "def fate_classifier(traj,thresh,stability_thresh):\n",
    "    #Stability factor of trajectories:\n",
    "    cross_flags = np.zeros((2,num_traj))\n",
    "    cross_times = np.ones((2,num_traj))*Nt\n",
    "    for axis_idx in range(2):\n",
    "        #Axis crossings:\n",
    "        for traj_idx in range(num_traj):\n",
    "            if (np.size(np.where(traj[axis_idx,traj_idx]>thresh[axis_idx])[0]) != 0):\n",
    "                cross_flags[axis_idx,traj_idx] = 1\n",
    "                cross_times[axis_idx,traj_idx] = np.where(traj[axis_idx,traj_idx]>thresh[axis_idx])[0][0]\n",
    "                    \n",
    "    #Stability factor: after the threshold is crossed, how much time the traj spends above it:\n",
    "    stability_factrs = np.zeros((2,num_traj))\n",
    "    for axis_idx in range(2):\n",
    "        for traj_idx in range(num_traj):\n",
    "#             if (cross_flags[axis_idx,traj_idx]==0):\n",
    "#                 stability_factrs[axis_idx,traj_idx] = -1\n",
    "            if (cross_flags[axis_idx,traj_idx]==1):\n",
    "                stability_factrs[axis_idx,traj_idx] = np.sum(traj[axis_idx,traj_idx,int(cross_times[axis_idx,traj_idx]):]>thresh[axis_idx])\\\n",
    "                /len(traj[axis_idx,traj_idx,int(cross_times[axis_idx,traj_idx]):])\n",
    "    \n",
    "    #Stability threshold - trajectories that spend more than this above the concentration threshold are considered committed:\n",
    "#     stability_thresh = 0.8\n",
    "    #Classifying fates:\n",
    "    fates = np.zeros((2,num_traj))\n",
    "    for axis_idx in range(2):\n",
    "        for traj_idx in range(num_traj):\n",
    "            if (cross_times[axis_idx,traj_idx]<=int(Nt/2) and stability_factrs[axis_idx,traj_idx]>=stability_thresh):\n",
    "                fates[axis_idx,traj_idx]=1\n",
    "                \n",
    "    return stability_factrs,fates\n",
    "\n",
    "def fate_fractions(fates):\n",
    "    #Initializing:\n",
    "    fate_frax = np.zeros(4)\n",
    "    fate_frax[0] = np.sum((fates[0]==0) & (fates[1]==0))/num_traj\n",
    "    fate_frax[1] = np.sum((fates[0]==1) & (fates[1]==0))/num_traj\n",
    "    fate_frax[2] = np.sum((fates[0]==0) & (fates[1]==1))/num_traj\n",
    "    fate_frax[3] = np.sum((fates[0]==1) & (fates[1]==1))/num_traj\n",
    "    \n",
    "    return fate_frax\n",
    "\n",
    "def traj_moments(traj,fates):\n",
    "    #Finding the fate fractions first:\n",
    "    fate_frax = fate_fractions(fates)\n",
    "    \n",
    "    #Flags, if fate_frac is zero for a fate then no avg or std is calculated:\n",
    "    fate_flags = np.array([False for i in range(4)])\n",
    "    \n",
    "    #Flag = True if that fate exists in the population:\n",
    "    for fate_idx in range(4):\n",
    "        if (fate_frax[fate_idx] != 0):\n",
    "            fate_flags[fate_idx] = True\n",
    "            \n",
    "    #Average trajectories and standard deviation around them:\n",
    "    avg_traj = np.zeros((4,2,Nt))\n",
    "    std_traj = np.zeros((4,2,Nt))\n",
    "    \n",
    "    if (fate_flags[0]==True):\n",
    "        avg_traj[0,:,:] = np.mean(traj[:,(fates[0]==0) & (fates[1]==0),:],axis=1)\n",
    "        std_traj[0,:,:] = np.std(traj[:,(fates[0]==0) & (fates[1]==0),:],axis=1)\n",
    "\n",
    "    if (fate_flags[1]==True):\n",
    "        avg_traj[1,:,:] = np.mean(traj[:,(fates[0]==1) & (fates[1]==0),:],axis=1)\n",
    "        std_traj[1,:,:] = np.std(traj[:,(fates[0]==1) & (fates[1]==0),:],axis=1)\n",
    "\n",
    "    if (fate_flags[2]==True):\n",
    "        avg_traj[2,:,:] = np.mean(traj[:,(fates[0]==0) & (fates[1]==1),:],axis=1)\n",
    "        std_traj[2,:,:] = np.std(traj[:,(fates[0]==0) & (fates[1]==1),:],axis=1)\n",
    "\n",
    "    if (fate_flags[3]==True):\n",
    "        avg_traj[3,:,:] = np.mean(traj[:,(fates[0]==1) & (fates[1]==1),:],axis=1)\n",
    "        std_traj[3,:,:] = np.std(traj[:,(fates[0]==1) & (fates[1]==1),:],axis=1)\n",
    "        \n",
    "    return (avg_traj,std_traj)"
   ]
  },
  {
   "cell_type": "code",
   "execution_count": 5,
   "id": "5d4549ba",
   "metadata": {},
   "outputs": [
    {
     "name": "stdout",
     "output_type": "stream",
     "text": [
      "Time taken: 14.021469831466675 s.\n"
     ]
    }
   ],
   "source": [
    "#Generating some trajectories:\n",
    "start_time = time.time()\n",
    "traj_simple = np.empty((2,num_traj,Nt))\n",
    "traj_simple = Solver(x0,a,r,k,n,theta,alpha)\n",
    "end_time = time.time()\n",
    "loop_time = end_time - start_time\n",
    "print(f\"Time taken: {loop_time} s.\")"
   ]
  },
  {
   "cell_type": "code",
   "execution_count": 6,
   "id": "d71570bb",
   "metadata": {},
   "outputs": [],
   "source": [
    "#Now testing the fates and stability factors:\n",
    "stability_factrs,fates = fate_classifier(traj_simple,thresh,stability_thresh)"
   ]
  },
  {
   "cell_type": "code",
   "execution_count": 7,
   "id": "ea53974b",
   "metadata": {},
   "outputs": [
    {
     "name": "stderr",
     "output_type": "stream",
     "text": [
      "/home/ssengupt/anaconda3/lib/python3.9/site-packages/numpy/core/fromnumeric.py:3440: RuntimeWarning: Mean of empty slice.\n",
      "  return _methods._mean(a, axis=axis, dtype=dtype,\n",
      "/home/ssengupt/anaconda3/lib/python3.9/site-packages/numpy/core/_methods.py:189: RuntimeWarning: invalid value encountered in double_scalars\n",
      "  ret = ret.dtype.type(ret / rcount)\n",
      "/home/ssengupt/anaconda3/lib/python3.9/site-packages/numpy/core/_methods.py:262: RuntimeWarning: Degrees of freedom <= 0 for slice\n",
      "  ret = _var(a, axis=axis, dtype=dtype, out=out, ddof=ddof,\n",
      "/home/ssengupt/anaconda3/lib/python3.9/site-packages/numpy/core/_methods.py:222: RuntimeWarning: invalid value encountered in true_divide\n",
      "  arrmean = um.true_divide(arrmean, div, out=arrmean, casting='unsafe',\n",
      "/home/ssengupt/anaconda3/lib/python3.9/site-packages/numpy/core/_methods.py:254: RuntimeWarning: invalid value encountered in double_scalars\n",
      "  ret = ret.dtype.type(ret / rcount)\n"
     ]
    }
   ],
   "source": [
    "#Varying initial bias and calculating the sensitivity:\n",
    "init_bias_arr = np.array([(i)/100 for i in range(6)])\n",
    "#Finding stabilities:\n",
    "stabilities_mean_arr = np.zeros((len(init_bias_arr),2))\n",
    "stabilities_std_arr = np.zeros((len(init_bias_arr),2))\n",
    "fate_frax = np.zeros((len(init_bias_arr),4))\n",
    "\n",
    "for bias_idx in range(len(init_bias_arr)):\n",
    "    #The bias:\n",
    "    init_bias = init_bias_arr[bias_idx]\n",
    "    #Initial conditions:\n",
    "    x0 = np.zeros((2,num_traj))\n",
    "    x0[0,:] = init_bias*np.ones(num_traj)\n",
    "    #Evolving:\n",
    "    traj_init_bias = Solver(x0,a,r,k,n,theta,alpha)\n",
    "    #Checking fates:\n",
    "    stability_factrs,fates = fate_classifier(traj_init_bias,thresh,stability_thresh)\n",
    "    #Finding fate fractions:\n",
    "    fate_frax[bias_idx,0] = np.sum((fates[0]==0) & (fates[1]==0))\n",
    "    fate_frax[bias_idx,1] = np.sum((fates[0]==1) & (fates[1]==0))\n",
    "    fate_frax[bias_idx,2] = np.sum((fates[0]==0) & (fates[1]==1))\n",
    "    fate_frax[bias_idx,3] = np.sum((fates[0]==1) & (fates[1]==1))\n",
    "    #Finding mean stabilities:\n",
    "    for axis_idx in range(2):\n",
    "        stabilities_mean_arr[bias_idx,axis_idx] = np.mean(stability_factrs[axis_idx,stability_factrs[axis_idx]>0])\n",
    "        stabilities_std_arr[bias_idx,axis_idx] = np.std(stability_factrs[axis_idx,stability_factrs[axis_idx]>0])\n",
    "    \n",
    "fate_frax = fate_frax/num_traj"
   ]
  },
  {
   "cell_type": "code",
   "execution_count": 72,
   "id": "91c711c4",
   "metadata": {},
   "outputs": [
    {
     "data": {
      "image/png": "[encoded data removed]",
      "text/plain": [
       "<Figure size 576x432 with 2 Axes>"
      ]
     },
     "metadata": {
      "needs_background": "light"
     },
     "output_type": "display_data"
    }
   ],
   "source": [
    "#Plot template -> theta=0.5:\n",
    "\n",
    "fig,ax = plt.subplots(2,1,sharex=True,figsize=[8,6])\n",
    "ax[0].scatter(init_bias_arr,fate_frax[:,1],c=CB_color_cycle[0],marker=\">\",label=\"fate 1 fraction\")\n",
    "ax[0].tick_params(axis='both', which='major', labelsize=12)\n",
    "ax[0].tick_params(axis='both', which='minor', labelsize=10)\n",
    "# ax[0].set_xlabel(r\"Initial asymmetry\",fontsize=18)\n",
    "ax[0].set_ylabel(r\"Fraction\",fontsize=18)\n",
    "ax[0].legend(loc=\"best\",fontsize=12)\n",
    "# ax[0].set_title(f\"Final vs. inital asymmetry\",fontsize=20)\n",
    "\n",
    "ax[1].errorbar(init_bias_arr,stabilities_mean_arr[:,0],yerr=stabilities_std_arr[:,0],c=CB_color_cycle[0],capsize=5,fmt=\"o\",label=\"fate 1 stability\")\n",
    "ax[1].tick_params(axis='both', which='major', labelsize=12)\n",
    "ax[1].tick_params(axis='both', which='minor', labelsize=10)\n",
    "ax[1].set_xlabel(r\"Initial asymmetry\",fontsize=18)\n",
    "ax[1].set_ylabel(r\"Stability\",fontsize=18)\n",
    "ax[1].set_ylim([0.8,1.2])\n",
    "ax[1].legend(loc=\"best\",fontsize=12)\n",
    "# ax[1].set_title(f\"Stability vs. inital asymmetry\",fontsize=20)\n",
    "\n",
    "fig.suptitle(\"Fate 1 fraction, stability vs. initial asymmetry\",fontsize=20)\n",
    "\n",
    "fig.savefig(\"2a_fraction,stability_vs_initial.pdf\",format=\"pdf\")"
   ]
  },
  {
   "cell_type": "code",
   "execution_count": 21,
   "id": "7cd8ed4e",
   "metadata": {},
   "outputs": [],
   "source": [
    "#Varying initial bias and calculating the sensitivity:\n",
    "init_bias_arr = np.array([i/100 for i in range(11)])\n",
    "#Thetas:\n",
    "thetas_arr = np.array([0.3,0.5,0.7])\n",
    "# #Stabilities:\n",
    "# stabilities_mean_arr = np.zeros((len(thetas_arr),len(init_bias_arr),2))\n",
    "# stabilities_std_arr = np.zeros((len(thetas_arr),len(init_bias_arr),2))\n",
    "#Fate fractions:\n",
    "fate_frax = np.zeros((len(thetas_arr),len(init_bias_arr),4))\n",
    "\n",
    "for theta_idx in range(len(thetas_arr)):\n",
    "    #Setting theta:\n",
    "    theta[0,1] = theta[1,0] = thetas_arr[theta_idx]\n",
    "    for bias_idx in range(len(init_bias_arr)):\n",
    "        #Initial conditions:\n",
    "        x0 = np.zeros((2,num_traj))\n",
    "        x0[0,:] = init_bias_arr[bias_idx]*np.ones(num_traj)\n",
    "        #Evolving trajectories:\n",
    "        traj_theta_bias = np.empty((2,num_traj,Nt))\n",
    "        traj_theta_bias = Solver(x0,a,r,k,n,theta,alpha)\n",
    "        #Checking fates and finding fate frax:\n",
    "        stability_factrs,fates = fate_classifier(traj_theta_bias,thresh,stability_thresh)\n",
    "        fate_frax[theta_idx,bias_idx] = fate_fractions(fates)\n",
    "#         #Finding mean stabilities:\n",
    "#         for axis_idx in range(2):\n",
    "#             stabilities_mean_arr[theta_idx,bias_idx,axis_idx] = np.mean(stability_factrs[axis_idx,stability_factrs[axis_idx]>0])\n",
    "#             stabilities_std_arr[theta_idx,bias_idx,axis_idx] = np.std(stability_factrs[axis_idx,stability_factrs[axis_idx]>0])"
   ]
  },
  {
   "cell_type": "code",
   "execution_count": 27,
   "id": "c8d87669",
   "metadata": {},
   "outputs": [],
   "source": [
    "#Writing data to file:\n",
    "np.savetxt(fr\"2a_fatefrax_alpha={alpha[0]}.txt\",fate_frax.flatten())"
   ]
  },
  {
   "cell_type": "code",
   "execution_count": 25,
   "id": "ad9d179e",
   "metadata": {},
   "outputs": [
    {
     "name": "stderr",
     "output_type": "stream",
     "text": [
      "The PostScript backend does not support transparency; partially transparent artists will be rendered opaque.\n"
     ]
    },
    {
     "data": {
      "image/png": "[encoded data removed]",
      "text/plain": [
       "<Figure size 518.4x460.8 with 3 Axes>"
      ]
     },
     "metadata": {
      "needs_background": "light"
     },
     "output_type": "display_data"
    }
   ],
   "source": [
    "#Proportions of fates 0, 1 and 2:\n",
    "fig,ax = plt.subplots(3,1,figsize=[7.2,6.4],sharex=True,sharey=True)\n",
    "\n",
    "ax[0].fill_between(init_bias_arr,y1=fate_frax[0,:,0],color=CB_color_cycle[0],alpha=1,label=\"fate 0\")\n",
    "ax[0].fill_between(init_bias_arr,y1=fate_frax[0,:,1]+fate_frax[0,:,0],y2=fate_frax[0,:,0],color=CB_color_cycle[1],alpha=1,label=\"fate 1\")\n",
    "ax[0].fill_between(init_bias_arr,y1=fate_frax[0,:,2]+fate_frax[0,:,1]+fate_frax[0,:,0],y2=fate_frax[0,:,1]+fate_frax[0,:,0],color=CB_color_cycle[2],alpha=1,label=\"fate 2\")\n",
    "ax[0].legend(loc=\"best\",fontsize=12)\n",
    "ax[0].set_ylabel(r\"$f_i$\",fontsize=18)\n",
    "ax[0].text(1.01,0.5,fr\"$\\theta_{{xy}}$ = {thetas_arr[0]}\",transform=ax[0].transAxes,fontsize=16)\n",
    "ax[0].set_title(fr\"Fate shares vs. initial bias ($\\alpha$ = {alpha[0]})\",fontsize=22)\n",
    "\n",
    "ax[1].fill_between(init_bias_arr,y1=fate_frax[1,:,0],color=CB_color_cycle[0],alpha=1)\n",
    "ax[1].fill_between(init_bias_arr,y1=fate_frax[1,:,1]+fate_frax[1,:,0],y2=fate_frax[1,:,0],color=CB_color_cycle[1],alpha=1)\n",
    "ax[1].fill_between(init_bias_arr,y1=fate_frax[1,:,2]+fate_frax[1,:,1]+fate_frax[1,:,0],y2=fate_frax[1,:,1]+fate_frax[1,:,0],color=CB_color_cycle[2],alpha=1)\n",
    "ax[1].set_ylabel(r\"$f_i$\",fontsize=18)\n",
    "ax[1].text(1.01,0.5,fr\"$\\theta_{{xy}}$ = {thetas_arr[1]}\",transform=ax[1].transAxes,fontsize=16)\n",
    "\n",
    "ax[2].fill_between(init_bias_arr,y1=fate_frax[2,:,0],color=CB_color_cycle[0],alpha=1)\n",
    "ax[2].fill_between(init_bias_arr,y1=fate_frax[2,:,1]+fate_frax[2,:,0],y2=fate_frax[2,:,0],color=CB_color_cycle[1],alpha=1)\n",
    "ax[2].fill_between(init_bias_arr,y1=fate_frax[2,:,2]+fate_frax[2,:,1]+fate_frax[2,:,0],y2=fate_frax[2,:,1]+fate_frax[2,:,0],color=CB_color_cycle[2],alpha=1)\n",
    "ax[2].set_ylabel(r\"$f_i$\",fontsize=18)\n",
    "ax[2].text(1.01,0.5,fr\"$\\theta_{{xy}}$ = {thetas_arr[2]}\",transform=ax[2].transAxes,fontsize=16)\n",
    "ax[2].set_xlabel(r\"Initial bias\",fontsize=18)\n",
    "\n",
    "plt.subplots_adjust(wspace=0, hspace=0)\n",
    "\n",
    "fig.savefig(\"2a_fatefrax_vs_bias.eps\",format=\"eps\",dpi=2000,bbox_inches=\"tight\",pad_inches=0.15)"
   ]
  },
  {
   "cell_type": "code",
   "execution_count": null,
   "id": "5db01447",
   "metadata": {},
   "outputs": [],
   "source": []
  }
 ],
 "metadata": {
  "kernelspec": {
   "display_name": "Python 3 (ipykernel)",
   "language": "python",
   "name": "python3"
  },
  "language_info": {
   "codemirror_mode": {
    "name": "ipython",
    "version": 3
   },
   "file_extension": ".py",
   "mimetype": "text/x-python",
   "name": "python",
   "nbconvert_exporter": "python",
   "pygments_lexer": "ipython3",
   "version": "3.9.12"
  }
 },
 "nbformat": 4,
 "nbformat_minor": 5
}
