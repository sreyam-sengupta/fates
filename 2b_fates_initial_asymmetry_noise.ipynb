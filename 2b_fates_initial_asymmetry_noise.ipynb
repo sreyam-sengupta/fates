{
 "cells": [
  {
   "cell_type": "code",
   "execution_count": 1,
   "id": "5a522189",
   "metadata": {},
   "outputs": [
    {
     "data": {
      "text/html": [
       "<style>.container { width:100% !important; }</style>"
      ],
      "text/plain": [
       "<IPython.core.display.HTML object>"
      ]
     },
     "metadata": {},
     "output_type": "display_data"
    }
   ],
   "source": [
    "import math\n",
    "import numpy as np\n",
    "import scipy.special as sp\n",
    "import random as rand\n",
    "import pandas as pd\n",
    "import matplotlib.pyplot as plt\n",
    "from matplotlib.ticker import FuncFormatter\n",
    "from numba import jit,int64,float64\n",
    "import time\n",
    "import scipy.optimize as sciopt\n",
    "%matplotlib inline\n",
    "\n",
    "#To increase cell width:\n",
    "from IPython.display import display, HTML\n",
    "display(HTML(\"<style>.container { width:100% !important; }</style>\"))"
   ]
  },
  {
   "cell_type": "code",
   "execution_count": 2,
   "id": "09440b65",
   "metadata": {},
   "outputs": [],
   "source": [
    "#Plot template\n",
    "\n",
    "# fig,ax = plt.subplots(1,1)\n",
    "# ax.scatter(alphas_arr,stabilities_arr[:,0],c=CB_color_cycle[0],marker=\">\",label=\"fate 1\")\n",
    "# ax.scatter(alphas_arr,stabilities_arr[:,1],c=CB_color_cycle[1],marker=\"<\",label=\"fate 2\",alpha=1)\n",
    "# ax.axhline(y=stability_thresh,c=\"k\",ls=\"--\",label=\"threshold\")\n",
    "# ax.tick_params(axis='both', which='major', labelsize=12)\n",
    "# ax.tick_params(axis='both', which='minor', labelsize=10)\n",
    "# ax.set_xlabel(r\"Noise coefficient $\\alpha$\",fontsize=18)\n",
    "# ax.set_ylabel(r\"Mean stability factor\",fontsize=18)\n",
    "# ax.legend(loc=\"best\",fontsize=12)\n",
    "# ax.set_title(f\"Stability vs. noise\",fontsize=20)\n",
    "# fig.savefig(\"1b_stability_vs_noise.svg\",format=\"svg\")\n",
    "\n",
    "#Color-blind friendly colors to plot:\n",
    "CB_color_cycle = ['#377eb8', '#ff7f00', '#4daf4a','#f781bf', '#a65628', '#984ea3','#999999', '#e41a1c', '#dede00']"
   ]
  },
  {
   "cell_type": "code",
   "execution_count": 19,
   "id": "90970159",
   "metadata": {},
   "outputs": [],
   "source": [
    "#Parameters - self-activation a, cross-repression r, decay k, noise alpha:\n",
    "a = np.array([0,0])\n",
    "r = np.array([1,1])\n",
    "k = np.array([1,1])\n",
    "alpha = np.array([0.1,0.1])\n",
    "#Hill coefficients:\n",
    "n = np.array([[4,4],[4,4]])\n",
    "theta = np.array([[0.5,0.5],[0.5,0.5]])\n",
    "\n",
    "#The total time and dt::\n",
    "T = 20\n",
    "dt = 0.005\n",
    "#Other time-related variables related to these two:\n",
    "Nt = int(T/dt)\n",
    "sqrt_dt = np.sqrt(dt)\n",
    "TimeRange = np.arange(0,T,dt)\n",
    "# #This is to calculate the dynamic threshold moving average:\n",
    "# timeBase = 2*int(Nt/100)\n",
    "# #Time to plot utility against:\n",
    "# time_trunc = TimeRange[int((timeBase/2)-1):-int(timeBase/2)]\n",
    "\n",
    "#Let's call num_traj the number of trajectories:\n",
    "num_traj = 10000\n",
    "\n",
    "#The initial conditions:\n",
    "x0 = np.zeros((2,num_traj))\n",
    "#Uniform around mean:\n",
    "init_bias = 0\n",
    "x0[0,:] = init_bias*np.ones(num_traj)\n",
    "\n",
    "#The threshold above which we say x_i is high:\n",
    "thresh = np.array([0.8,0.8])\n",
    "#The stability threshold; a trajectory has to stay above this:\n",
    "stability_thresh = 0.9\n",
    "\n",
    "#Color-blind friendly colors to plot:\n",
    "CB_color_cycle = ['#377eb8', '#ff7f00', '#4daf4a','#f781bf', '#a65628', '#984ea3','#999999', '#e41a1c', '#dede00']"
   ]
  },
  {
   "cell_type": "code",
   "execution_count": 20,
   "id": "70ced77d",
   "metadata": {},
   "outputs": [],
   "source": [
    "#Self-activation:\n",
    "@jit(nopython=True)\n",
    "def activation(x,a,n,theta):\n",
    "    if (x>=0):\n",
    "        return (a*x**n)/(x**n + theta**n)\n",
    "    else:\n",
    "        return 0\n",
    "\n",
    "#Cross-inhibition\n",
    "@jit(nopython=True)\n",
    "def repression(x,r,n,theta):\n",
    "    if (x>0):\n",
    "        return (r*theta**n)/(x**n + theta**n)\n",
    "    else:\n",
    "        return 0\n",
    "\n",
    "#Bias (for external signals):\n",
    "@jit(nopython=True)\n",
    "def ext_bias(x1,x2,t):\n",
    "#     return (x1-x2,x2-x1)\n",
    "    temp = 0\n",
    "    return (temp,0)\n",
    "    \n",
    "#This solves the system fwd using simple Euler-Maruyama:\n",
    "@jit(nopython=True)\n",
    "def Solver(initial,a,r,k,n,theta,alpha):\n",
    "    final = np.empty((2,num_traj,Nt))\n",
    "    final[:,:,0] = initial\n",
    "    #Solving the system forward in time:\n",
    "    for i in range(num_traj):\n",
    "        for t in range(1,Nt):\n",
    "            #Equation for first species:\n",
    "            temp = np.sqrt(np.maximum(final[0,i,t-1],0.01))\n",
    "            noise = rand.normalvariate(0,alpha[0]*temp)\n",
    "            final[0,i,t] = final[0,i,t-1] + dt*(activation(final[0,i,t-1],a[0],n[0,0],theta[0,0]) \\\n",
    "                                               + repression(final[1,i,t-1],r[0],n[1,0],theta[1,0]) \\\n",
    "                                               - k[0]*final[0,i,t-1] + ext_bias(final[0,i,t-1],final[1,i,t-1],t)[0]) \\\n",
    "                                                + sqrt_dt*noise\n",
    "            #Equation for second:\n",
    "            temp = np.sqrt(np.maximum(final[1,i,t-1],0.01))\n",
    "            noise = rand.normalvariate(0,alpha[1]*temp)\n",
    "            final[1,i,t] = final[1,i,t-1] + dt*(activation(final[1,i,t-1],a[1],n[1,1],theta[1,1]) \\\n",
    "                                               + repression(final[0,i,t-1],r[1],n[0,1],theta[0,1]) \\\n",
    "                                               - k[1]*final[1,i,t-1] + ext_bias(final[0,i,t-1],final[1,i,t-1],t)[1]) \\\n",
    "                                                + sqrt_dt*noise\n",
    "    return final\n",
    "\n",
    "#Classifier:\n",
    "# @jit(nopython=True)\n",
    "def fate_classifier(traj,thresh,stability_thresh):\n",
    "    #Stability factor of trajectories:\n",
    "    cross_flags = np.zeros((2,num_traj))\n",
    "    cross_times = np.ones((2,num_traj))*Nt\n",
    "    for axis_idx in range(2):\n",
    "        #Axis crossings:\n",
    "        for traj_idx in range(num_traj):\n",
    "            if (np.size(np.where(traj[axis_idx,traj_idx]>thresh[axis_idx])[0]) != 0):\n",
    "                cross_flags[axis_idx,traj_idx] = 1\n",
    "                cross_times[axis_idx,traj_idx] = np.where(traj[axis_idx,traj_idx]>thresh[axis_idx])[0][0]\n",
    "                    \n",
    "    #Stability factor: after the threshold is crossed, how much time the traj spends above it:\n",
    "    stability_factrs = np.zeros((2,num_traj))\n",
    "    for axis_idx in range(2):\n",
    "        for traj_idx in range(num_traj):\n",
    "#             if (cross_flags[axis_idx,traj_idx]==0):\n",
    "#                 stability_factrs[axis_idx,traj_idx] = -1\n",
    "            if (cross_flags[axis_idx,traj_idx]==1):\n",
    "                stability_factrs[axis_idx,traj_idx] = np.sum(traj[axis_idx,traj_idx,int(cross_times[axis_idx,traj_idx]):]>thresh[axis_idx])\\\n",
    "                /len(traj[axis_idx,traj_idx,int(cross_times[axis_idx,traj_idx]):])\n",
    "    \n",
    "    #Stability threshold - trajectories that spend more than this above the concentration threshold are considered committed:\n",
    "#     stability_thresh = 0.8\n",
    "    #Classifying fates:\n",
    "    fates = np.zeros((2,num_traj))\n",
    "    for axis_idx in range(2):\n",
    "        for traj_idx in range(num_traj):\n",
    "            if (cross_times[axis_idx,traj_idx]<=int(Nt/2) and stability_factrs[axis_idx,traj_idx]>=stability_thresh):\n",
    "                fates[axis_idx,traj_idx]=1\n",
    "                \n",
    "    return stability_factrs,fates"
   ]
  },
  {
   "cell_type": "code",
   "execution_count": 21,
   "id": "5d4549ba",
   "metadata": {},
   "outputs": [
    {
     "name": "stdout",
     "output_type": "stream",
     "text": [
      "Time taken: 7.004162549972534 s.\n"
     ]
    }
   ],
   "source": [
    "#Generating some trajectories:\n",
    "start_time = time.time()\n",
    "traj_simple = np.empty((2,num_traj,Nt))\n",
    "traj_simple = Solver(x0,a,r,k,n,theta,alpha)\n",
    "end_time = time.time()\n",
    "loop_time = end_time - start_time\n",
    "print(f\"Time taken: {loop_time} s.\")"
   ]
  },
  {
   "cell_type": "code",
   "execution_count": 22,
   "id": "d71570bb",
   "metadata": {},
   "outputs": [],
   "source": [
    "#Now testing the fates and stability factors:\n",
    "stability_factrs,fates = fate_classifier(traj_simple,thresh,stability_thresh)"
   ]
  },
  {
   "cell_type": "code",
   "execution_count": 23,
   "id": "58ae1257",
   "metadata": {},
   "outputs": [
    {
     "data": {
      "text/plain": [
       "0.9891156862615854"
      ]
     },
     "execution_count": 23,
     "metadata": {},
     "output_type": "execute_result"
    }
   ],
   "source": [
    "np.mean(stability_factrs[0,stability_factrs[0]>0])"
   ]
  },
  {
   "cell_type": "code",
   "execution_count": 26,
   "id": "ea53974b",
   "metadata": {},
   "outputs": [],
   "source": [
    "#Varying initial bias and noise both, and calculating the sensitivity:\n",
    "alphas_arr = np.array([(i+1)/25 for i in range(4)])\n",
    "init_bias_arr = np.array([i/100 for i in range(11)])\n",
    "#Finding stabilities:\n",
    "stabilities_mean_arr = np.zeros((len(alphas_arr),len(init_bias_arr),2))\n",
    "stabilities_std_arr = np.zeros((len(alphas_arr),len(init_bias_arr),2))\n",
    "fate_frax = np.zeros((len(alphas_arr),len(init_bias_arr),4))\n",
    "\n",
    "for alpha_idx in range(len(alphas_arr)):\n",
    "    #Setting the noise:\n",
    "    alpha[0] = alpha[1] = alphas_arr[alpha_idx]\n",
    "    for bias_idx in range(len(init_bias_arr)):\n",
    "        #The bias:\n",
    "        init_bias = init_bias_arr[bias_idx]\n",
    "        #Initial conditions:\n",
    "        x0 = np.zeros((2,num_traj))\n",
    "        x0[0,:] = init_bias*np.ones(num_traj)\n",
    "        #Evolving:\n",
    "        traj_alpha_bias = Solver(x0,a,r,k,n,theta,alpha)\n",
    "        #Checking fates:\n",
    "        stability_factrs,fates = fate_classifier(traj_alpha_bias,thresh,stability_thresh)\n",
    "        #Finding fate fractions:\n",
    "        fate_frax[alpha_idx,bias_idx,0] = np.sum((fates[0]==0) & (fates[1]==0))\n",
    "        fate_frax[alpha_idx,bias_idx,1] = np.sum((fates[0]==1) & (fates[1]==0))\n",
    "        fate_frax[alpha_idx,bias_idx,2] = np.sum((fates[0]==0) & (fates[1]==1))\n",
    "        fate_frax[alpha_idx,bias_idx,3] = np.sum((fates[0]==1) & (fates[1]==1))\n",
    "        #Finding mean stabilities:\n",
    "        for axis_idx in range(2):\n",
    "            stabilities_mean_arr[alpha_idx,bias_idx,axis_idx] = np.mean(stability_factrs[axis_idx,stability_factrs[axis_idx]>0])\n",
    "            stabilities_std_arr[alpha_idx,bias_idx,axis_idx] = np.std(stability_factrs[axis_idx,stability_factrs[axis_idx]>0])\n",
    "    \n",
    "fate_frax = fate_frax/num_traj"
   ]
  },
  {
   "cell_type": "code",
   "execution_count": 30,
   "id": "dd170354",
   "metadata": {},
   "outputs": [
    {
     "data": {
      "text/plain": [
       "array([[[0.0026389 , 0.00290296],\n",
       "        [0.00271767, 0.00285365],\n",
       "        [0.00260483, 0.00293951],\n",
       "        [0.00274981, 0.00262402],\n",
       "        [0.00276087, 0.00285068],\n",
       "        [0.00263879, 0.00288757],\n",
       "        [0.0026194 , 0.00255937],\n",
       "        [0.00244923, 0.00213425],\n",
       "        [0.00258905, 0.00312673],\n",
       "        [0.00249273, 0.00247464],\n",
       "        [0.00243452, 0.00258722]],\n",
       "\n",
       "       [[0.01023275, 0.00954318],\n",
       "        [0.00982873, 0.00978307],\n",
       "        [0.00993656, 0.00987769],\n",
       "        [0.00950139, 0.00965465],\n",
       "        [0.01005922, 0.01022322],\n",
       "        [0.00959155, 0.00982768],\n",
       "        [0.00926466, 0.01052937],\n",
       "        [0.00967066, 0.01026195],\n",
       "        [0.00930978, 0.01081163],\n",
       "        [0.00949127, 0.01028462],\n",
       "        [0.00938567, 0.01017416]],\n",
       "\n",
       "       [[0.02383665, 0.02297145],\n",
       "        [0.02505008, 0.02387566],\n",
       "        [0.0238818 , 0.02382997],\n",
       "        [0.02316515, 0.02556359],\n",
       "        [0.0226796 , 0.02462677],\n",
       "        [0.02319408, 0.02417834],\n",
       "        [0.02278253, 0.0234606 ],\n",
       "        [0.02336993, 0.02450344],\n",
       "        [0.02338224, 0.02499596],\n",
       "        [0.0223934 , 0.0236343 ],\n",
       "        [0.02338932, 0.02327789]],\n",
       "\n",
       "       [[0.04783902, 0.04895419],\n",
       "        [0.04805046, 0.04873204],\n",
       "        [0.04965254, 0.04992972],\n",
       "        [0.04962972, 0.05245431],\n",
       "        [0.04740521, 0.04683816],\n",
       "        [0.05076993, 0.04986161],\n",
       "        [0.05150386, 0.04987655],\n",
       "        [0.0503813 , 0.05523166],\n",
       "        [0.0490281 , 0.04859938],\n",
       "        [0.04829253, 0.05152293],\n",
       "        [0.04733787, 0.05345538]]])"
      ]
     },
     "execution_count": 30,
     "metadata": {},
     "output_type": "execute_result"
    }
   ],
   "source": [
    "stabilities_std_arr"
   ]
  },
  {
   "cell_type": "code",
   "execution_count": 29,
   "id": "227ac7e0",
   "metadata": {},
   "outputs": [
    {
     "data": {
      "text/plain": [
       "array([[[0.000e+00, 5.034e-01, 4.966e-01, 0.000e+00],\n",
       "        [0.000e+00, 5.460e-01, 4.540e-01, 0.000e+00],\n",
       "        [0.000e+00, 6.610e-01, 3.390e-01, 0.000e+00],\n",
       "        [0.000e+00, 7.530e-01, 2.470e-01, 0.000e+00],\n",
       "        [0.000e+00, 8.296e-01, 1.704e-01, 0.000e+00],\n",
       "        [0.000e+00, 8.984e-01, 1.016e-01, 0.000e+00],\n",
       "        [0.000e+00, 9.405e-01, 5.950e-02, 0.000e+00],\n",
       "        [0.000e+00, 9.677e-01, 3.230e-02, 0.000e+00],\n",
       "        [0.000e+00, 9.831e-01, 1.690e-02, 0.000e+00],\n",
       "        [0.000e+00, 9.934e-01, 6.600e-03, 0.000e+00],\n",
       "        [0.000e+00, 9.973e-01, 2.700e-03, 0.000e+00]],\n",
       "\n",
       "       [[0.000e+00, 5.027e-01, 4.973e-01, 0.000e+00],\n",
       "        [1.000e-04, 5.280e-01, 4.719e-01, 0.000e+00],\n",
       "        [2.000e-04, 5.825e-01, 4.173e-01, 0.000e+00],\n",
       "        [0.000e+00, 6.340e-01, 3.660e-01, 0.000e+00],\n",
       "        [1.000e-04, 6.822e-01, 3.177e-01, 0.000e+00],\n",
       "        [1.000e-04, 7.271e-01, 2.728e-01, 0.000e+00],\n",
       "        [1.000e-04, 7.716e-01, 2.283e-01, 0.000e+00],\n",
       "        [2.000e-04, 8.218e-01, 1.780e-01, 0.000e+00],\n",
       "        [2.000e-04, 8.503e-01, 1.495e-01, 0.000e+00],\n",
       "        [0.000e+00, 8.813e-01, 1.187e-01, 0.000e+00],\n",
       "        [0.000e+00, 9.093e-01, 9.070e-02, 0.000e+00]],\n",
       "\n",
       "       [[1.400e-02, 4.943e-01, 4.917e-01, 0.000e+00],\n",
       "        [1.420e-02, 5.134e-01, 4.724e-01, 0.000e+00],\n",
       "        [1.350e-02, 5.445e-01, 4.420e-01, 0.000e+00],\n",
       "        [1.380e-02, 5.871e-01, 3.991e-01, 0.000e+00],\n",
       "        [1.260e-02, 6.239e-01, 3.635e-01, 0.000e+00],\n",
       "        [1.350e-02, 6.491e-01, 3.374e-01, 0.000e+00],\n",
       "        [1.070e-02, 6.770e-01, 3.123e-01, 0.000e+00],\n",
       "        [1.230e-02, 7.226e-01, 2.651e-01, 0.000e+00],\n",
       "        [1.330e-02, 7.475e-01, 2.392e-01, 0.000e+00],\n",
       "        [9.500e-03, 7.848e-01, 2.057e-01, 0.000e+00],\n",
       "        [1.070e-02, 8.089e-01, 1.804e-01, 0.000e+00]],\n",
       "\n",
       "       [[1.464e-01, 4.257e-01, 4.279e-01, 0.000e+00],\n",
       "        [1.462e-01, 4.352e-01, 4.186e-01, 0.000e+00],\n",
       "        [1.525e-01, 4.542e-01, 3.933e-01, 0.000e+00],\n",
       "        [1.513e-01, 4.787e-01, 3.700e-01, 0.000e+00],\n",
       "        [1.502e-01, 4.998e-01, 3.500e-01, 0.000e+00],\n",
       "        [1.524e-01, 5.198e-01, 3.278e-01, 0.000e+00],\n",
       "        [1.425e-01, 5.672e-01, 2.903e-01, 0.000e+00],\n",
       "        [1.444e-01, 5.721e-01, 2.835e-01, 0.000e+00],\n",
       "        [1.500e-01, 5.998e-01, 2.502e-01, 0.000e+00],\n",
       "        [1.469e-01, 6.179e-01, 2.352e-01, 0.000e+00],\n",
       "        [1.419e-01, 6.393e-01, 2.188e-01, 0.000e+00]]])"
      ]
     },
     "execution_count": 29,
     "metadata": {},
     "output_type": "execute_result"
    }
   ],
   "source": [
    "fate_frax"
   ]
  },
  {
   "cell_type": "code",
   "execution_count": 38,
   "id": "91c711c4",
   "metadata": {},
   "outputs": [
    {
     "name": "stderr",
     "output_type": "stream",
     "text": [
      "The PostScript backend does not support transparency; partially transparent artists will be rendered opaque.\n"
     ]
    },
    {
     "data": {
      "image/png": "[encoded data removed]",
      "text/plain": [
       "<Figure size 576x576 with 2 Axes>"
      ]
     },
     "metadata": {
      "needs_background": "light"
     },
     "output_type": "display_data"
    }
   ],
   "source": [
    "#Plot template\n",
    "\n",
    "fig,ax = plt.subplots(2,1,sharex=True,figsize=[8,8],constrained_layout=True)\n",
    "for alpha_idx in range(len(alphas_arr)):\n",
    "    ax[0].scatter(init_bias_arr,fate_frax[alpha_idx,:,1],c=CB_color_cycle[-alpha_idx],marker=\">\",label=fr\"$\\alpha={alphas_arr[alpha_idx]}$\")\n",
    "# ax[0].scatter(init_bias_arr,fate_frax[1,:,1],c=CB_color_cycle[1],marker=\">\",label=\"fate 1 fraction\")\n",
    "ax[0].tick_params(axis='both', which='major', labelsize=12)\n",
    "ax[0].tick_params(axis='both', which='minor', labelsize=10)\n",
    "# ax[0].set_xlabel(r\"Initial asymmetry\",fontsize=18)\n",
    "ax[0].set_ylabel(r\"Fraction\",fontsize=18)\n",
    "ax[0].legend(loc=\"best\",fontsize=12)\n",
    "# ax[0].set_title(f\"Final vs. inital asymmetry\",fontsize=20)\n",
    "\n",
    "for alpha_idx in range(len(alphas_arr)):\n",
    "    ax[1].errorbar(init_bias_arr,stabilities_mean_arr[alpha_idx,:,0],yerr=stabilities_std_arr[alpha_idx,:,0],c=CB_color_cycle[-alpha_idx],capsize=5,fmt=\".\",label=fr\"$\\alpha={alphas_arr[alpha_idx]}$\")\n",
    "ax[1].tick_params(axis='both', which='major', labelsize=12)\n",
    "ax[1].tick_params(axis='both', which='minor', labelsize=10)\n",
    "ax[1].set_xlabel(r\"Initial asymmetry\",fontsize=18)\n",
    "ax[1].set_ylabel(r\"Stability\",fontsize=18)\n",
    "ax[1].set_ylim([0.8,1.2])\n",
    "ax[1].legend(loc=\"best\",fontsize=12)\n",
    "# ax[1].set_title(f\"Stability vs. inital asymmetry\",fontsize=20)\n",
    "\n",
    "fig.suptitle(\"Fate 1 fraction, stability vs. initial asymmetry\",fontsize=20)\n",
    "\n",
    "fig.savefig(\"2b_fraction,stability_vs_initial_noise.eps\",format=\"eps\",dpi=2000,bbox_inches=\"tight\",pad_inches=0.15)"
   ]
  },
  {
   "cell_type": "code",
   "execution_count": 46,
   "id": "067f226a",
   "metadata": {},
   "outputs": [
    {
     "data": {
      "text/plain": [
       "[<matplotlib.lines.Line2D at 0x7fa351902340>]"
      ]
     },
     "execution_count": 46,
     "metadata": {},
     "output_type": "execute_result"
    },
    {
     "data": {
      "image/png": "[encoded data removed]",
      "text/plain": [
       "<Figure size 432x288 with 1 Axes>"
      ]
     },
     "metadata": {
      "needs_background": "light"
     },
     "output_type": "display_data"
    }
   ],
   "source": [
    "#Finding the sensitivity:\n",
    "plt.scatter(init_bias_arr[:6],fate_frax[0,:6,1])\n",
    "#Fitting:\n",
    "x_fit = init_bias_arr[:6]\n",
    "y_fit = fate_frax[0,:6,1]\n",
    "\n",
    "#Linear function to fit against:\n",
    "# @jit(nopython=True)\n",
    "def fit_linear(x,a,b):\n",
    "    return a*x+b\n",
    "\n",
    "popt,pcov = sciopt.curve_fit(fit_linear,x_fit,y_fit,p0=([2,0.1]))\n",
    "\n",
    "plt.plot(x_fit,fit_linear(x_fit,*popt))"
   ]
  },
  {
   "cell_type": "code",
   "execution_count": 45,
   "id": "927b8c0a",
   "metadata": {},
   "outputs": [
    {
     "data": {
      "text/plain": [
       "(array([8.33657142, 0.49015238]),\n",
       " array([[ 1.74530394e-01, -4.36325983e-03],\n",
       "        [-4.36325983e-03,  1.59986193e-04]]))"
      ]
     },
     "execution_count": 45,
     "metadata": {},
     "output_type": "execute_result"
    }
   ],
   "source": [
    "popt,pcov"
   ]
  },
  {
   "cell_type": "code",
   "execution_count": null,
   "id": "caee72dc",
   "metadata": {},
   "outputs": [],
   "source": []
  }
 ],
 "metadata": {
  "kernelspec": {
   "display_name": "Python 3 (ipykernel)",
   "language": "python",
   "name": "python3"
  },
  "language_info": {
   "codemirror_mode": {
    "name": "ipython",
    "version": 3
   },
   "file_extension": ".py",
   "mimetype": "text/x-python",
   "name": "python",
   "nbconvert_exporter": "python",
   "pygments_lexer": "ipython3",
   "version": "3.9.12"
  }
 },
 "nbformat": 4,
 "nbformat_minor": 5
}
