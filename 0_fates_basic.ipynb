{
 "cells": [
  {
   "cell_type": "code",
   "execution_count": 22,
   "id": "5a522189",
   "metadata": {},
   "outputs": [
    {
     "data": {
      "text/html": [
       "<style>.container { width:100% !important; }</style>"
      ],
      "text/plain": [
       "<IPython.core.display.HTML object>"
      ]
     },
     "metadata": {},
     "output_type": "display_data"
    }
   ],
   "source": [
    "import math\n",
    "import numpy as np\n",
    "import scipy.special as sp\n",
    "import random as rand\n",
    "import pandas as pd\n",
    "import matplotlib.pyplot as plt\n",
    "from matplotlib.ticker import FuncFormatter\n",
    "from numba import jit,int64,float64\n",
    "import time\n",
    "import scipy.optimize as sciopt\n",
    "%matplotlib inline\n",
    "\n",
    "#To increase cell width:\n",
    "from IPython.display import display, HTML\n",
    "display(HTML(\"<style>.container { width:100% !important; }</style>\"))\n",
    "\n",
    "#Color-blind friendly colors to plot:\n",
    "CB_color_cycle = ['#377eb8', '#ff7f00', '#4daf4a','#f781bf', '#a65628', '#984ea3','#999999', '#e41a1c', '#dede00']\n",
    "\n",
    "#Running the script with parameter definitions and functions:\n",
    "%run fates_functions.py"
   ]
  },
  {
   "cell_type": "code",
   "execution_count": 23,
   "id": "2bf6c9ed",
   "metadata": {},
   "outputs": [],
   "source": [
    "#Plot template\n",
    "\n",
    "# fig,ax = plt.subplots(1,1)\n",
    "# ax.scatter(alphas_arr,stabilities_arr[:,0],c=CB_color_cycle[0],marker=\">\",label=\"fate 1\")\n",
    "# ax.scatter(alphas_arr,stabilities_arr[:,1],c=CB_color_cycle[1],marker=\"<\",label=\"fate 2\",alpha=1)\n",
    "# ax.axhline(y=stability_thresh,c=\"k\",ls=\"--\",label=\"threshold\")\n",
    "# ax.tick_params(axis='both', which='major', labelsize=12)\n",
    "# ax.tick_params(axis='both', which='minor', labelsize=10)\n",
    "# ax.set_xlabel(r\"Noise coefficient $\\alpha$\",fontsize=18)\n",
    "# ax.set_ylabel(r\"Mean stability factor\",fontsize=18)\n",
    "# ax.legend(loc=\"best\",fontsize=12)\n",
    "# ax.set_title(f\"Stability vs. noise\",fontsize=20)\n",
    "# fig.savefig(\"1b_stability_vs_noise.svg\",format=\"svg\")\n",
    "\n"
   ]
  },
  {
   "cell_type": "code",
   "execution_count": 24,
   "id": "90970159",
   "metadata": {},
   "outputs": [],
   "source": [
    "# #Parameters - self-activation a, cross-repression r, decay k, noise alpha:\n",
    "# a = np.array([0,0])\n",
    "# r = np.array([1,1])\n",
    "# k = np.array([1,1])\n",
    "# alpha = np.array([0.1,0.1])\n",
    "# #Hill coefficients:\n",
    "# n = np.array([[4,4],[4,4]])\n",
    "# theta = np.array([[0.5,0.5],[0.5,0.5]])\n",
    "\n",
    "# #The total time and dt::\n",
    "# T = 20\n",
    "# dt = 0.005\n",
    "# #Other time-related variables related to these two:\n",
    "# Nt = int(T/dt)\n",
    "# sqrt_dt = np.sqrt(dt)\n",
    "# TimeRange = np.arange(0,T,dt)\n",
    "# # #This is to calculate the dynamic threshold moving average:\n",
    "# # timeBase = 2*int(Nt/100)\n",
    "# # #Time to plot utility against:\n",
    "# # time_trunc = TimeRange[int((timeBase/2)-1):-int(timeBase/2)]\n",
    "\n",
    "# #Let's call num_traj the number of trajectories:\n",
    "# num_traj = 10000\n",
    "\n",
    "# #The initial conditions:\n",
    "# x0 = np.zeros((2,num_traj))\n",
    "# #Uniform around mean:\n",
    "# init_bias = 0\n",
    "# x0[0,:] = init_bias*np.ones(num_traj)\n",
    "\n",
    "# #The threshold above which we say x_i is high:\n",
    "# thresh = [0.7,0.7]\n",
    "\n",
    "# #Color-blind friendly colors to plot:\n",
    "# CB_color_cycle = ['#377eb8', '#ff7f00', '#4daf4a','#f781bf', '#a65628', '#984ea3','#999999', '#e41a1c', '#dede00']"
   ]
  },
  {
   "cell_type": "code",
   "execution_count": 25,
   "id": "70ced77d",
   "metadata": {},
   "outputs": [],
   "source": [
    "# #Self-activation:\n",
    "# @jit(nopython=True)\n",
    "# def activation(x,a,n,theta):\n",
    "#     if (x>=0):\n",
    "#         return (a*x**n)/(x**n + theta**n)\n",
    "#     else:\n",
    "#         return 0\n",
    "\n",
    "# #Cross-inhibition\n",
    "# @jit(nopython=True)\n",
    "# def repression(x,r,n,theta):\n",
    "#     if (x>0):\n",
    "#         return (r*theta**n)/(x**n + theta**n)\n",
    "#     else:\n",
    "#         return 0\n",
    "\n",
    "# #Bias (for external signals):\n",
    "# @jit(nopython=True)\n",
    "# def ext_bias(x1,x2,t):\n",
    "# #     return (x1-x2,x2-x1)\n",
    "#     temp = 0\n",
    "#     return (temp,0)\n",
    "    \n",
    "# #This solves the system fwd using simple Euler-Maruyama:\n",
    "# @jit(nopython=True)\n",
    "# def Solver(initial,a,r,k,n,theta,alpha):\n",
    "#     final = np.empty((2,num_traj,Nt))\n",
    "#     final[:,:,0] = initial\n",
    "#     #Solving the system forward in time:\n",
    "#     for i in range(num_traj):\n",
    "#         for t in range(1,Nt):\n",
    "#             #Equation for first species:\n",
    "#             temp = np.sqrt(np.maximum(final[0,i,t-1],0.01))\n",
    "#             noise = rand.normalvariate(0,alpha[0]*temp)\n",
    "#             final[0,i,t] = final[0,i,t-1] + dt*(activation(final[0,i,t-1],a[0],n[0,0],theta[0,0]) \\\n",
    "#                                                + repression(final[1,i,t-1],r[0],n[1,0],theta[1,0]) \\\n",
    "#                                                - k[0]*final[0,i,t-1] + ext_bias(final[0,i,t-1],final[1,i,t-1],t)[0]) \\\n",
    "#                                                 + sqrt_dt*noise\n",
    "#             #Equation for second:\n",
    "#             temp = np.sqrt(np.maximum(final[1,i,t-1],0.01))\n",
    "#             noise = rand.normalvariate(0,alpha[1]*temp)\n",
    "#             final[1,i,t] = final[1,i,t-1] + dt*(activation(final[1,i,t-1],a[1],n[1,1],theta[1,1]) \\\n",
    "#                                                + repression(final[0,i,t-1],r[1],n[0,1],theta[0,1]) \\\n",
    "#                                                - k[1]*final[1,i,t-1] + ext_bias(final[0,i,t-1],final[1,i,t-1],t)[1]) \\\n",
    "#                                                 + sqrt_dt*noise\n",
    "#     return final"
   ]
  },
  {
   "cell_type": "code",
   "execution_count": 26,
   "id": "5d4549ba",
   "metadata": {},
   "outputs": [
    {
     "name": "stdout",
     "output_type": "stream",
     "text": [
      "Time taken: 6.7921624183654785 s.\n"
     ]
    }
   ],
   "source": [
    "#Generating some trajectories:\n",
    "start_time = time.time()\n",
    "traj_simple = np.empty((2,num_traj,Nt))\n",
    "traj_simple = Solver(x0,a,r,k,n,theta,alpha)\n",
    "end_time = time.time()\n",
    "loop_time = end_time - start_time\n",
    "print(f\"Time taken: {loop_time} s.\")"
   ]
  }
 ],
 "metadata": {
  "kernelspec": {
   "display_name": "Python 3 (ipykernel)",
   "language": "python",
   "name": "python3"
  },
  "language_info": {
   "codemirror_mode": {
    "name": "ipython",
    "version": 3
   },
   "file_extension": ".py",
   "mimetype": "text/x-python",
   "name": "python",
   "nbconvert_exporter": "python",
   "pygments_lexer": "ipython3",
   "version": "3.9.12"
  }
 },
 "nbformat": 4,
 "nbformat_minor": 5
}
