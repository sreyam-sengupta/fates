{
 "cells": [
  {
   "cell_type": "code",
   "execution_count": 1,
   "id": "5a522189",
   "metadata": {},
   "outputs": [
    {
     "data": {
      "text/html": [
       "<style>.container { width:100% !important; }</style>"
      ],
      "text/plain": [
       "<IPython.core.display.HTML object>"
      ]
     },
     "metadata": {},
     "output_type": "display_data"
    }
   ],
   "source": [
    "import math\n",
    "import numpy as np\n",
    "import scipy.special as sp\n",
    "import random as rand\n",
    "import pandas as pd\n",
    "import matplotlib.pyplot as plt\n",
    "from matplotlib.ticker import FuncFormatter\n",
    "from numba import jit,int64,float64\n",
    "import time\n",
    "import scipy.optimize as sciopt\n",
    "%matplotlib inline\n",
    "\n",
    "#To increase cell width:\n",
    "from IPython.display import display, HTML\n",
    "display(HTML(\"<style>.container { width:100% !important; }</style>\"))"
   ]
  },
  {
   "cell_type": "code",
   "execution_count": 2,
   "id": "09440b65",
   "metadata": {},
   "outputs": [],
   "source": [
    "#Plot template\n",
    "\n",
    "# fig,ax = plt.subplots(1,1)\n",
    "# ax.scatter(alphas_arr,stabilities_arr[:,0],c=CB_color_cycle[0],marker=\">\",label=\"fate 1\")\n",
    "# ax.scatter(alphas_arr,stabilities_arr[:,1],c=CB_color_cycle[1],marker=\"<\",label=\"fate 2\",alpha=1)\n",
    "# ax.axhline(y=stability_thresh,c=\"k\",ls=\"--\",label=\"threshold\")\n",
    "# ax.tick_params(axis='both', which='major', labelsize=12)\n",
    "# ax.tick_params(axis='both', which='minor', labelsize=10)\n",
    "# ax.set_xlabel(r\"Noise coefficient $\\alpha$\",fontsize=18)\n",
    "# ax.set_ylabel(r\"Mean stability factor\",fontsize=18)\n",
    "# ax.legend(loc=\"best\",fontsize=12)\n",
    "# ax.set_title(f\"Stability vs. noise\",fontsize=20)\n",
    "# fig.savefig(\"1b_stability_vs_noise.svg\",format=\"svg\")\n",
    "\n",
    "#Color-blind friendly colors to plot:\n",
    "CB_color_cycle = ['#377eb8', '#ff7f00', '#4daf4a','#f781bf', '#a65628', '#984ea3','#999999', '#e41a1c', '#dede00']"
   ]
  },
  {
   "cell_type": "code",
   "execution_count": 3,
   "id": "90970159",
   "metadata": {},
   "outputs": [],
   "source": [
    "#Parameters - self-activation a, cross-repression r, decay k, noise alpha:\n",
    "a = np.array([0,0])\n",
    "r = np.array([1,1])\n",
    "k = np.array([1,1])\n",
    "alpha = np.array([0.1,0.1])\n",
    "#Hill coefficients:\n",
    "n = np.array([[4,4],[4,4]])\n",
    "theta = np.array([[0.5,0.5],[0.5,0.5]])\n",
    "\n",
    "#The total time and dt::\n",
    "T = 40\n",
    "dt = 0.005\n",
    "#Other time-related variables related to these two:\n",
    "Nt = int(T/dt)\n",
    "sqrt_dt = np.sqrt(dt)\n",
    "TimeRange = np.arange(0,T,dt)\n",
    "# #This is to calculate the dynamic threshold moving average:\n",
    "# timeBase = 2*int(Nt/100)\n",
    "# #Time to plot utility against:\n",
    "# time_trunc = TimeRange[int((timeBase/2)-1):-int(timeBase/2)]\n",
    "\n",
    "#Let's call num_traj the number of trajectories:\n",
    "num_traj = 10000\n",
    "\n",
    "#The initial conditions:\n",
    "x0 = np.zeros((2,num_traj))\n",
    "#Uniform around mean:\n",
    "init_bias = 0.1\n",
    "x0[0,:] = init_bias*np.ones(num_traj)\n",
    "\n",
    "#The threshold above which we say x_i is high:\n",
    "thresh = np.array([0.8,0.8])\n",
    "#The stability threshold; a trajectory has to stay above this:\n",
    "stability_thresh = 0.9\n",
    "\n",
    "#Color-blind friendly colors to plot:\n",
    "CB_color_cycle = ['#377eb8', '#ff7f00', '#4daf4a','#f781bf', '#a65628', '#984ea3','#999999', '#e41a1c', '#dede00']"
   ]
  },
  {
   "cell_type": "code",
   "execution_count": 4,
   "id": "70ced77d",
   "metadata": {},
   "outputs": [],
   "source": [
    "#Self-activation:\n",
    "@jit(nopython=True)\n",
    "def activation(x,a,n,theta):\n",
    "    if (x>=0):\n",
    "        return (a*x**n)/(x**n + theta**n)\n",
    "    else:\n",
    "        return 0\n",
    "\n",
    "#Cross-inhibition\n",
    "@jit(nopython=True)\n",
    "def repression(x,r,n,theta):\n",
    "    if (x>0):\n",
    "        return (r*theta**n)/(x**n + theta**n)\n",
    "    else:\n",
    "        return 0\n",
    "\n",
    "#Bias (for external signals):\n",
    "@jit(nopython=True)\n",
    "def ext_bias(x1,x2,t):\n",
    "#     return (x1-x2,x2-x1)\n",
    "    temp = 0\n",
    "    return (temp,0)\n",
    "    \n",
    "#This solves the system fwd using simple Euler-Maruyama:\n",
    "@jit(nopython=True)\n",
    "def Solver(initial,a,r,k,n,theta,alpha):\n",
    "    final = np.empty((2,num_traj,Nt))\n",
    "    final[:,:,0] = initial\n",
    "    #Solving the system forward in time:\n",
    "    for i in range(num_traj):\n",
    "        for t in range(1,Nt):\n",
    "            #Equation for first species:\n",
    "            temp = np.sqrt(np.maximum(final[0,i,t-1],0.01))\n",
    "            noise = rand.normalvariate(0,alpha[0]*temp)\n",
    "            final[0,i,t] = final[0,i,t-1] + dt*(activation(final[0,i,t-1],a[0],n[0,0],theta[0,0]) \\\n",
    "                                               + repression(final[1,i,t-1],r[0],n[1,0],theta[1,0]) \\\n",
    "                                               - k[0]*final[0,i,t-1] + ext_bias(final[0,i,t-1],final[1,i,t-1],t)[0]) \\\n",
    "                                                + sqrt_dt*noise\n",
    "            #Equation for second:\n",
    "            temp = np.sqrt(np.maximum(final[1,i,t-1],0.01))\n",
    "            noise = rand.normalvariate(0,alpha[1]*temp)\n",
    "            final[1,i,t] = final[1,i,t-1] + dt*(activation(final[1,i,t-1],a[1],n[1,1],theta[1,1]) \\\n",
    "                                               + repression(final[0,i,t-1],r[1],n[0,1],theta[0,1]) \\\n",
    "                                               - k[1]*final[1,i,t-1] + ext_bias(final[0,i,t-1],final[1,i,t-1],t)[1]) \\\n",
    "                                                + sqrt_dt*noise\n",
    "    return final\n",
    "\n",
    "#Classifier:\n",
    "# @jit(nopython=True)\n",
    "def fate_classifier(traj,thresh,stability_thresh):\n",
    "    #Stability factor of trajectories:\n",
    "    cross_flags = np.zeros((2,num_traj))\n",
    "    cross_times = np.ones((2,num_traj))*Nt\n",
    "    for axis_idx in range(2):\n",
    "        #Axis crossings:\n",
    "        for traj_idx in range(num_traj):\n",
    "            if (np.size(np.where(traj[axis_idx,traj_idx]>thresh[axis_idx])[0]) != 0):\n",
    "                cross_flags[axis_idx,traj_idx] = 1\n",
    "                cross_times[axis_idx,traj_idx] = np.where(traj[axis_idx,traj_idx]>thresh[axis_idx])[0][0]\n",
    "                    \n",
    "    #Stability factor: after the threshold is crossed, how much time the traj spends above it:\n",
    "    stability_factrs = np.zeros((2,num_traj))\n",
    "    for axis_idx in range(2):\n",
    "        for traj_idx in range(num_traj):\n",
    "#             if (cross_flags[axis_idx,traj_idx]==0):\n",
    "#                 stability_factrs[axis_idx,traj_idx] = -1\n",
    "            if (cross_flags[axis_idx,traj_idx]==1):\n",
    "                stability_factrs[axis_idx,traj_idx] = np.sum(traj[axis_idx,traj_idx,int(cross_times[axis_idx,traj_idx]):]>thresh[axis_idx])\\\n",
    "                /len(traj[axis_idx,traj_idx,int(cross_times[axis_idx,traj_idx]):])\n",
    "    \n",
    "    #Stability threshold - trajectories that spend more than this above the concentration threshold are considered committed:\n",
    "#     stability_thresh = 0.8\n",
    "    #Classifying fates:\n",
    "    fates = np.zeros((2,num_traj))\n",
    "    for axis_idx in range(2):\n",
    "        for traj_idx in range(num_traj):\n",
    "            if (cross_times[axis_idx,traj_idx]<=int(Nt/2) and stability_factrs[axis_idx,traj_idx]>=stability_thresh):\n",
    "                fates[axis_idx,traj_idx]=1\n",
    "                \n",
    "    return stability_factrs,fates\n",
    "\n",
    "def fate_fractions(fates):\n",
    "    #Initializing:\n",
    "    fate_frax = np.zeros(4)\n",
    "    fate_frax[0] = np.sum((fates[0]==0) & (fates[1]==0))/num_traj\n",
    "    fate_frax[1] = np.sum((fates[0]==1) & (fates[1]==0))/num_traj\n",
    "    fate_frax[2] = np.sum((fates[0]==0) & (fates[1]==1))/num_traj\n",
    "    fate_frax[3] = np.sum((fates[0]==1) & (fates[1]==1))/num_traj\n",
    "    \n",
    "    return fate_frax\n",
    "\n",
    "def traj_moments(traj,fates):\n",
    "    #Finding the fate fractions first:\n",
    "    fate_frax = fate_fractions(fates)\n",
    "    \n",
    "    #Flags, if fate_frac is zero for a fate then no avg or std is calculated:\n",
    "    fate_flags = np.array([False for i in range(4)])\n",
    "    \n",
    "    #Flag = True if that fate exists in the population:\n",
    "    for fate_idx in range(4):\n",
    "        if (fate_frax[fate_idx] != 0):\n",
    "            fate_flags[fate_idx] = True\n",
    "            \n",
    "    #Average trajectories and standard deviation around them:\n",
    "    avg_traj = np.zeros((4,2,Nt))\n",
    "    std_traj = np.zeros((4,2,Nt))\n",
    "    \n",
    "    if (fate_flags[0]==True):\n",
    "        avg_traj[0,:,:] = np.mean(traj[:,(fates[0]==0) & (fates[1]==0),:],axis=1)\n",
    "        std_traj[0,:,:] = np.std(traj[:,(fates[0]==0) & (fates[1]==0),:],axis=1)\n",
    "\n",
    "    if (fate_flags[1]==True):\n",
    "        avg_traj[1,:,:] = np.mean(traj[:,(fates[0]==1) & (fates[1]==0),:],axis=1)\n",
    "        std_traj[1,:,:] = np.std(traj[:,(fates[0]==1) & (fates[1]==0),:],axis=1)\n",
    "\n",
    "    if (fate_flags[2]==True):\n",
    "        avg_traj[2,:,:] = np.mean(traj[:,(fates[0]==0) & (fates[1]==1),:],axis=1)\n",
    "        std_traj[2,:,:] = np.std(traj[:,(fates[0]==0) & (fates[1]==1),:],axis=1)\n",
    "\n",
    "    if (fate_flags[3]==True):\n",
    "        avg_traj[3,:,:] = np.mean(traj[:,(fates[0]==1) & (fates[1]==1),:],axis=1)\n",
    "        std_traj[3,:,:] = np.std(traj[:,(fates[0]==1) & (fates[1]==1),:],axis=1)\n",
    "        \n",
    "    return (avg_traj,std_traj)"
   ]
  },
  {
   "cell_type": "code",
   "execution_count": 5,
   "id": "5d4549ba",
   "metadata": {},
   "outputs": [
    {
     "name": "stdout",
     "output_type": "stream",
     "text": [
      "Time taken: 13.367586612701416 s.\n"
     ]
    }
   ],
   "source": [
    "#Generating some trajectories:\n",
    "start_time = time.time()\n",
    "traj_simple = np.empty((2,num_traj,Nt))\n",
    "traj_simple = Solver(x0,a,r,k,n,theta,alpha)\n",
    "end_time = time.time()\n",
    "loop_time = end_time - start_time\n",
    "print(f\"Time taken: {loop_time} s.\")"
   ]
  },
  {
   "cell_type": "code",
   "execution_count": 6,
   "id": "d71570bb",
   "metadata": {},
   "outputs": [],
   "source": [
    "#Now testing the fates and stability factors:\n",
    "stability_factrs,fates = fate_classifier(traj_simple,thresh,stability_thresh)"
   ]
  },
  {
   "cell_type": "code",
   "execution_count": 7,
   "id": "ea53974b",
   "metadata": {},
   "outputs": [
    {
     "ename": "KeyboardInterrupt",
     "evalue": "",
     "output_type": "error",
     "traceback": [
      "\u001b[0;31m---------------------------------------------------------------------------\u001b[0m",
      "\u001b[0;31mKeyboardInterrupt\u001b[0m                         Traceback (most recent call last)",
      "Input \u001b[0;32mIn [7]\u001b[0m, in \u001b[0;36m<cell line: 11>\u001b[0;34m()\u001b[0m\n\u001b[1;32m     19\u001b[0m x0[\u001b[38;5;241m0\u001b[39m,:] \u001b[38;5;241m=\u001b[39m init_bias_arr[bias_idx]\u001b[38;5;241m*\u001b[39mnp\u001b[38;5;241m.\u001b[39mones(num_traj)\n\u001b[1;32m     20\u001b[0m \u001b[38;5;66;03m#Evolving:\u001b[39;00m\n\u001b[0;32m---> 21\u001b[0m traj_alpha_theta_bias \u001b[38;5;241m=\u001b[39m \u001b[43mSolver\u001b[49m\u001b[43m(\u001b[49m\u001b[43mx0\u001b[49m\u001b[43m,\u001b[49m\u001b[43ma\u001b[49m\u001b[43m,\u001b[49m\u001b[43mr\u001b[49m\u001b[43m,\u001b[49m\u001b[43mk\u001b[49m\u001b[43m,\u001b[49m\u001b[43mn\u001b[49m\u001b[43m,\u001b[49m\u001b[43mtheta\u001b[49m\u001b[43m,\u001b[49m\u001b[43malpha\u001b[49m\u001b[43m)\u001b[49m\n\u001b[1;32m     22\u001b[0m \u001b[38;5;66;03m#Checking fates:\u001b[39;00m\n\u001b[1;32m     23\u001b[0m stability_factrs,fates \u001b[38;5;241m=\u001b[39m fate_classifier(traj_alpha_theta_bias,thresh,stability_thresh)\n",
      "File \u001b[0;32m~/anaconda3/lib/python3.9/site-packages/numba/core/serialize.py:29\u001b[0m, in \u001b[0;36m_numba_unpickle\u001b[0;34m(address, bytedata, hashed)\u001b[0m\n\u001b[1;32m     25\u001b[0m \u001b[38;5;66;03m# Keep unpickled object via `numba_unpickle` alive.\u001b[39;00m\n\u001b[1;32m     26\u001b[0m _unpickled_memo \u001b[38;5;241m=\u001b[39m {}\n\u001b[0;32m---> 29\u001b[0m \u001b[38;5;28;01mdef\u001b[39;00m \u001b[38;5;21m_numba_unpickle\u001b[39m(address, bytedata, hashed):\n\u001b[1;32m     30\u001b[0m     \u001b[38;5;124;03m\"\"\"Used by `numba_unpickle` from _helperlib.c\u001b[39;00m\n\u001b[1;32m     31\u001b[0m \n\u001b[1;32m     32\u001b[0m \u001b[38;5;124;03m    Parameters\u001b[39;00m\n\u001b[0;32m   (...)\u001b[0m\n\u001b[1;32m     41\u001b[0m \u001b[38;5;124;03m        unpickled object\u001b[39;00m\n\u001b[1;32m     42\u001b[0m \u001b[38;5;124;03m    \"\"\"\u001b[39;00m\n\u001b[1;32m     43\u001b[0m     key \u001b[38;5;241m=\u001b[39m (address, hashed)\n",
      "\u001b[0;31mKeyboardInterrupt\u001b[0m: "
     ]
    }
   ],
   "source": [
    "#Thetas, alphas and initial biases:\n",
    "thetas_arr = np.arange(0.3,0.75,0.05)\n",
    "alphas_arr = np.array([0.01,0.05,0.1])\n",
    "init_bias_arr = np.array([i/100 for i in range(6)])\n",
    "\n",
    "#Stabilities and fate fractions:\n",
    "stabilities_mean_arr = np.zeros((len(alphas_arr),len(thetas_arr),2))\n",
    "stabilities_std_arr = np.zeros((len(alphas_arr),len(thetas_arr),2))\n",
    "fate_frax = np.zeros((len(alphas_arr),len(thetas_arr),len(init_bias_arr),4))\n",
    "\n",
    "for alpha_idx in range(len(alphas_arr)):\n",
    "    alpha[0] = alpha[1] = alphas_arr[alpha_idx]\n",
    "    for theta_idx in range(len(thetas_arr)):\n",
    "        #Setting theta:\n",
    "        theta[0,1] = theta[1,0] = thetas_arr[theta_idx]\n",
    "        for bias_idx in range(len(init_bias_arr)):\n",
    "            #Initial conditions:\n",
    "            x0 = np.zeros((2,num_traj))\n",
    "            x0[0,:] = init_bias_arr[bias_idx]*np.ones(num_traj)\n",
    "            #Evolving:\n",
    "            traj_alpha_theta_bias = Solver(x0,a,r,k,n,theta,alpha)\n",
    "            #Checking fates:\n",
    "            stability_factrs,fates = fate_classifier(traj_alpha_theta_bias,thresh,stability_thresh)\n",
    "            fate_frax[alpha_idx,theta_idx,bias_idx] = fate_fractions(fates)\n",
    "            #Finding mean stabilities:\n",
    "            if (bias_idx==0):\n",
    "                for axis_idx in range(2):\n",
    "                    #If fate 1 or 2 are empty, i.e. every trajectory is undecided:\n",
    "                    if (stability_factrs[axis_idx,stability_factrs[axis_idx]>0].size==0):\n",
    "                        stabilities_mean_arr[alpha_idx,theta_idx,axis_idx] = 0\n",
    "                        stabilities_std_arr[alpha_idx,theta_idx,axis_idx] = 0\n",
    "                    else:\n",
    "                        stabilities_mean_arr[alpha_idx,theta_idx,axis_idx] = np.mean(stability_factrs[axis_idx,stability_factrs[axis_idx]>0])\n",
    "                        stabilities_std_arr[alpha_idx,theta_idx,axis_idx] = np.std(stability_factrs[axis_idx,stability_factrs[axis_idx]>0])"
   ]
  },
  {
   "cell_type": "code",
   "execution_count": 72,
   "id": "74ad979c",
   "metadata": {},
   "outputs": [
    {
     "data": {
      "text/plain": [
       "array([[[1.0000225 , 1.00002201],\n",
       "        [1.00002699, 1.0000237 ],\n",
       "        [1.00002831, 1.00002642],\n",
       "        [1.00003439, 1.00003448],\n",
       "        [1.00004205, 1.00004272],\n",
       "        [1.00006052, 1.0000584 ],\n",
       "        [1.00009705, 1.00009417],\n",
       "        [1.0001328 , 1.00013231],\n",
       "        [1.0002372 , 1.0002099 ]],\n",
       "\n",
       "       [[1.00260265, 1.00264942],\n",
       "        [1.0005902 , 1.00063664],\n",
       "        [1.0006439 , 1.00068301],\n",
       "        [1.00078276, 1.00076637],\n",
       "        [1.00089102, 1.00080061],\n",
       "        [1.00106087, 1.0010394 ],\n",
       "        [1.00131655, 1.00135084],\n",
       "        [1.00188554, 1.00188305],\n",
       "        [1.00271053, 1.00276289]],\n",
       "\n",
       "       [[0.96932995, 0.96957912],\n",
       "        [1.00106644, 1.00082679],\n",
       "        [1.00164739, 1.00159466],\n",
       "        [1.00167837, 1.00181065],\n",
       "        [1.00172011, 1.00181385],\n",
       "        [1.00181883, 1.0020698 ],\n",
       "        [1.00216092, 1.00838921],\n",
       "        [1.00301084, 1.01234544],\n",
       "        [1.04632483, 1.03886269]]])"
      ]
     },
     "execution_count": 72,
     "metadata": {},
     "output_type": "execute_result"
    }
   ],
   "source": [
    "stabilities_mean_arr+stabilities_std_arr"
   ]
  },
  {
   "cell_type": "code",
   "execution_count": 73,
   "id": "c46ed140",
   "metadata": {},
   "outputs": [
    {
     "data": {
      "text/plain": [
       "array([[[0.99997024, 0.99997129],\n",
       "        [0.99996434, 0.99996909],\n",
       "        [0.99996083, 0.99996357],\n",
       "        [0.99995095, 0.99995081],\n",
       "        [0.99993528, 0.99993544],\n",
       "        [0.99990041, 0.99990643],\n",
       "        [0.99983055, 0.99983308],\n",
       "        [0.99972836, 0.99973429],\n",
       "        [0.99948451, 0.99951455]],\n",
       "\n",
       "       [[0.99220802, 0.99216686],\n",
       "        [0.99827173, 0.99820501],\n",
       "        [0.99802014, 0.99801233],\n",
       "        [0.99762152, 0.99767579],\n",
       "        [0.99715839, 0.99726064],\n",
       "        [0.99633431, 0.99633562],\n",
       "        [0.99488748, 0.99475108],\n",
       "        [0.99220549, 0.99208439],\n",
       "        [0.98707068, 0.98691031]],\n",
       "\n",
       "       [[0.90446394, 0.90473375],\n",
       "        [0.97772648, 0.97704365],\n",
       "        [0.98894827, 0.98929643],\n",
       "        [0.98836488, 0.98819799],\n",
       "        [0.9867163 , 0.9867892 ],\n",
       "        [0.98466056, 0.98346471],\n",
       "        [0.97904905, 0.97236508],\n",
       "        [0.97035175, 0.95882971],\n",
       "        [0.89998442, 0.90996502]]])"
      ]
     },
     "execution_count": 73,
     "metadata": {},
     "output_type": "execute_result"
    }
   ],
   "source": [
    "stabilities_mean_arr-stabilities_std_arr"
   ]
  },
  {
   "cell_type": "code",
   "execution_count": 85,
   "id": "9580b05d",
   "metadata": {},
   "outputs": [],
   "source": [
    "#Writing results to text files:\n",
    "np.savetxt(fr\"2c_fatefrax_2.txt\",fate_frax.flatten())\n",
    "np.savetxt(fr\"2c_stabilities_mean_2.txt\",stabilities_mean_arr.flatten())\n",
    "np.savetxt(fr\"2c_stabilities_std_2.txt\",stabilities_std_arr.flatten())"
   ]
  },
  {
   "cell_type": "code",
   "execution_count": 12,
   "id": "4ad48be3",
   "metadata": {},
   "outputs": [],
   "source": [
    "#Loading the saved results:\n",
    "fate_frax = np.loadtxt(\"2c_fatefrax_2.txt\").reshape((len(alphas_arr),len(thetas_arr),len(init_bias_arr),4))\n",
    "stabilities_mean_arr = np.loadtxt(\"2c_stabilities_mean_2.txt\").reshape((len(alphas_arr),len(thetas_arr),2))\n",
    "stabilities_std_arr = np.loadtxt(\"2c_stabilities_std_2.txt\").reshape((len(alphas_arr),len(thetas_arr),2))"
   ]
  },
  {
   "cell_type": "code",
   "execution_count": 13,
   "id": "4ebe2905",
   "metadata": {},
   "outputs": [
    {
     "data": {
      "text/plain": [
       "array([[[0.000e+00, 0.000e+00, 0.000e+00, 0.000e+00, 0.000e+00,\n",
       "         0.000e+00],\n",
       "        [0.000e+00, 0.000e+00, 0.000e+00, 0.000e+00, 0.000e+00,\n",
       "         0.000e+00],\n",
       "        [0.000e+00, 0.000e+00, 0.000e+00, 0.000e+00, 0.000e+00,\n",
       "         0.000e+00],\n",
       "        [0.000e+00, 0.000e+00, 0.000e+00, 0.000e+00, 0.000e+00,\n",
       "         0.000e+00],\n",
       "        [0.000e+00, 0.000e+00, 0.000e+00, 0.000e+00, 0.000e+00,\n",
       "         0.000e+00],\n",
       "        [0.000e+00, 1.000e-04, 0.000e+00, 0.000e+00, 0.000e+00,\n",
       "         0.000e+00],\n",
       "        [0.000e+00, 0.000e+00, 0.000e+00, 0.000e+00, 0.000e+00,\n",
       "         0.000e+00],\n",
       "        [1.000e-04, 3.000e-04, 1.000e-04, 0.000e+00, 1.000e-04,\n",
       "         0.000e+00],\n",
       "        [9.000e-04, 1.000e-03, 1.200e-03, 5.000e-04, 1.000e-04,\n",
       "         1.000e-04]],\n",
       "\n",
       "       [[0.000e+00, 0.000e+00, 0.000e+00, 0.000e+00, 0.000e+00,\n",
       "         0.000e+00],\n",
       "        [0.000e+00, 0.000e+00, 0.000e+00, 0.000e+00, 0.000e+00,\n",
       "         0.000e+00],\n",
       "        [0.000e+00, 0.000e+00, 0.000e+00, 0.000e+00, 0.000e+00,\n",
       "         0.000e+00],\n",
       "        [0.000e+00, 0.000e+00, 0.000e+00, 0.000e+00, 0.000e+00,\n",
       "         0.000e+00],\n",
       "        [0.000e+00, 0.000e+00, 0.000e+00, 0.000e+00, 0.000e+00,\n",
       "         0.000e+00],\n",
       "        [0.000e+00, 0.000e+00, 0.000e+00, 0.000e+00, 0.000e+00,\n",
       "         0.000e+00],\n",
       "        [0.000e+00, 0.000e+00, 0.000e+00, 0.000e+00, 0.000e+00,\n",
       "         0.000e+00],\n",
       "        [1.000e-04, 0.000e+00, 1.000e-04, 2.000e-04, 0.000e+00,\n",
       "         0.000e+00],\n",
       "        [3.000e-04, 2.000e-04, 5.000e-04, 0.000e+00, 4.000e-04,\n",
       "         5.000e-04]],\n",
       "\n",
       "       [[1.330e-01, 1.342e-01, 1.305e-01, 1.294e-01, 1.328e-01,\n",
       "         1.357e-01],\n",
       "        [0.000e+00, 0.000e+00, 0.000e+00, 1.000e-04, 0.000e+00,\n",
       "         0.000e+00],\n",
       "        [0.000e+00, 0.000e+00, 0.000e+00, 0.000e+00, 0.000e+00,\n",
       "         0.000e+00],\n",
       "        [0.000e+00, 0.000e+00, 0.000e+00, 0.000e+00, 0.000e+00,\n",
       "         0.000e+00],\n",
       "        [0.000e+00, 0.000e+00, 0.000e+00, 0.000e+00, 0.000e+00,\n",
       "         0.000e+00],\n",
       "        [0.000e+00, 0.000e+00, 0.000e+00, 1.000e-04, 1.000e-04,\n",
       "         1.000e-04],\n",
       "        [4.000e-04, 4.000e-04, 6.000e-04, 4.000e-04, 7.000e-04,\n",
       "         7.000e-04],\n",
       "        [4.100e-03, 4.400e-03, 3.000e-03, 2.000e-03, 5.600e-03,\n",
       "         4.000e-03],\n",
       "        [2.370e-02, 2.220e-02, 2.160e-02, 2.430e-02, 2.820e-02,\n",
       "         2.590e-02]]])"
      ]
     },
     "execution_count": 13,
     "metadata": {},
     "output_type": "execute_result"
    }
   ],
   "source": [
    "fate_frax[:,:,:,0]"
   ]
  },
  {
   "cell_type": "code",
   "execution_count": 14,
   "id": "f115325e",
   "metadata": {},
   "outputs": [],
   "source": [
    "#Defining the sensitivities as a function of theta and alpha:\n",
    "sensitivity = np.zeros((len(alphas_arr),len(thetas_arr)))\n",
    "\n",
    "#Linear function to fit against:\n",
    "def fit_linear(x,a,b):\n",
    "    return a*x+b\n",
    "\n",
    "#x-coordinates for fit:\n",
    "x_fit = init_bias_arr\n",
    "\n",
    "for alpha_idx in range(len(alphas_arr)):\n",
    "    for theta_idx in range(len(thetas_arr)):\n",
    "        if (alpha_idx==0):\n",
    "            x_fit = init_bias_arr[:3]\n",
    "            y_fit = fate_frax[alpha_idx,theta_idx,:3,1]\n",
    "        else:\n",
    "            x_fit = init_bias_arr\n",
    "            y_fit = fate_frax[alpha_idx,theta_idx,:,1]\n",
    "        popt,pcov = sciopt.curve_fit(fit_linear,x_fit,y_fit,p0=([2,0.1]))\n",
    "        sensitivity[alpha_idx,theta_idx] = popt[0]"
   ]
  },
  {
   "cell_type": "code",
   "execution_count": 15,
   "id": "e2126aa5",
   "metadata": {},
   "outputs": [
    {
     "data": {
      "text/plain": [
       "<matplotlib.collections.PathCollection at 0x7fabbcaca8e0>"
      ]
     },
     "execution_count": 15,
     "metadata": {},
     "output_type": "execute_result"
    },
    {
     "data": {
      "image/png": "[encoded data removed]",
      "text/plain": [
       "<Figure size 432x288 with 1 Axes>"
      ]
     },
     "metadata": {
      "needs_background": "light"
     },
     "output_type": "display_data"
    }
   ],
   "source": [
    "plt.scatter(thetas_arr,sensitivity[0])"
   ]
  },
  {
   "cell_type": "code",
   "execution_count": 16,
   "id": "b6f91619",
   "metadata": {},
   "outputs": [
    {
     "data": {
      "text/plain": [
       "Text(0.2, 0.94, 'Sensitivity and stability vs. $\\\\theta_{xy}$ and $\\\\alpha$')"
      ]
     },
     "execution_count": 16,
     "metadata": {},
     "output_type": "execute_result"
    },
    {
     "data": {
      "image/png": "[encoded data removed]",
      "text/plain": [
       "<Figure size 691.2x777.6 with 6 Axes>"
      ]
     },
     "metadata": {
      "needs_background": "light"
     },
     "output_type": "display_data"
    }
   ],
   "source": [
    "fig,ax = plt.subplots(3,2,figsize=[9.6,10.8],sharex=True)\n",
    "\n",
    "for row_idx in range(3):\n",
    "    for col_idx in range(2):\n",
    "        ax[row_idx,col_idx].tick_params(axis='both', which='major', labelsize=11.5)\n",
    "        ax[row_idx,col_idx].tick_params(axis='both', which='minor', labelsize=9)\n",
    "\n",
    "ax[0,0].scatter(thetas_arr,sensitivity[0],color=\"k\")\n",
    "ax[0,0].set_title(\"Sensitivity\",fontsize=20)\n",
    "\n",
    "ax[0,1].errorbar(thetas_arr,stabilities_mean_arr[0,:,0],yerr=stabilities_std_arr[0,:,0],fmt=\"o\",capsize=5,color=\"k\")\n",
    "ax[0,1].text(1.05,0.5,fr\"$\\alpha$ = {alphas_arr[0]}\",transform=ax[0,1].transAxes,fontsize=18)\n",
    "ax[0,1].set_title(\"Stability\",fontsize=20)\n",
    "\n",
    "# ax[0,2].scatter(thetas_arr,np.mean(fate_frax[:,:,:,0],axis=2)[0])\n",
    "\n",
    "ax[1,0].scatter(thetas_arr,sensitivity[1],color=\"k\")\n",
    "\n",
    "ax[1,1].errorbar(thetas_arr,stabilities_mean_arr[1,:,0],yerr=stabilities_std_arr[1,:,0],fmt=\"o\",capsize=5,color=\"k\")\n",
    "ax[1,1].text(1.05,0.5,fr\"$\\alpha$ = {alphas_arr[1]}\",transform=ax[1,1].transAxes,fontsize=18)\n",
    "\n",
    "# ax[1,2].scatter(thetas_arr,np.mean(fate_frax[:,:,:,0],axis=2)[1])\n",
    "\n",
    "ax[2,0].scatter(thetas_arr,sensitivity[2],color=\"k\")\n",
    "ax[2,0].set_xlabel(r\"$\\theta_{xy}$\",fontsize=18)\n",
    "\n",
    "ax[2,1].errorbar(thetas_arr,stabilities_mean_arr[2,:,0],yerr=stabilities_std_arr[2,:,0],fmt=\"o\",capsize=5,color=\"k\")\n",
    "ax[2,1].set_xlabel(r\"$\\theta_{xy}$\",fontsize=18)\n",
    "ax[2,1].text(1.05,0.5,fr\"$\\alpha$ = {alphas_arr[2]}\",transform=ax[2,1].transAxes,fontsize=18)\n",
    "\n",
    "# ax[2,2].scatter(thetas_arr,np.mean(fate_frax[:,:,:,0],axis=2)[2])\n",
    "\n",
    "\n",
    "# ax[0].fill_between(init_bias_arr,y1=fate_frax[0,:,0],color=CB_color_cycle[0],alpha=1,label=\"fate 0\")\n",
    "# ax[0].fill_between(init_bias_arr,y1=fate_frax[0,:,1]+fate_frax[0,:,0],y2=fate_frax[0,:,0],color=CB_color_cycle[1],alpha=1,label=\"fate 1\")\n",
    "# ax[0].fill_between(init_bias_arr,y1=fate_frax[0,:,2]+fate_frax[0,:,1]+fate_frax[0,:,0],y2=fate_frax[0,:,1]+fate_frax[0,:,0],color=CB_color_cycle[2],alpha=1,label=\"fate 2\")\n",
    "# ax[0].legend(loc=\"best\",fontsize=12)\n",
    "# ax[0].set_ylabel(r\"$f_i$\",fontsize=18)\n",
    "# ax[0].text(1.01,0.5,fr\"$\\theta_{{xy}}$ = {thetas_arr[0]}\",transform=ax[0].transAxes,fontsize=16)\n",
    "# ax[0].set_title(fr\"Fate shares vs. initial bias ($\\alpha$ = {alpha[0]})\",fontsize=22)\n",
    "\n",
    "# ax[1].fill_between(init_bias_arr,y1=fate_frax[1,:,0],color=CB_color_cycle[0],alpha=1)\n",
    "# ax[1].fill_between(init_bias_arr,y1=fate_frax[1,:,1]+fate_frax[1,:,0],y2=fate_frax[1,:,0],color=CB_color_cycle[1],alpha=1)\n",
    "# ax[1].fill_between(init_bias_arr,y1=fate_frax[1,:,2]+fate_frax[1,:,1]+fate_frax[1,:,0],y2=fate_frax[1,:,1]+fate_frax[1,:,0],color=CB_color_cycle[2],alpha=1)\n",
    "# ax[1].set_ylabel(r\"$f_i$\",fontsize=18)\n",
    "# ax[1].text(1.01,0.5,fr\"$\\theta_{{xy}}$ = {thetas_arr[1]}\",transform=ax[1].transAxes,fontsize=16)\n",
    "\n",
    "# ax[2].fill_between(init_bias_arr,y1=fate_frax[2,:,0],color=CB_color_cycle[0],alpha=1)\n",
    "# ax[2].fill_between(init_bias_arr,y1=fate_frax[2,:,1]+fate_frax[2,:,0],y2=fate_frax[2,:,0],color=CB_color_cycle[1],alpha=1)\n",
    "# ax[2].fill_between(init_bias_arr,y1=fate_frax[2,:,2]+fate_frax[2,:,1]+fate_frax[2,:,0],y2=fate_frax[2,:,1]+fate_frax[2,:,0],color=CB_color_cycle[2],alpha=1)\n",
    "# ax[2].set_ylabel(r\"$f_i$\",fontsize=18)\n",
    "# ax[2].text(1.01,0.5,fr\"$\\theta_{{xy}}$ = {thetas_arr[2]}\",transform=ax[2].transAxes,fontsize=16)\n",
    "# ax[2].set_xlabel(r\"Initial bias\",fontsize=18)\n",
    "\n",
    "plt.subplots_adjust(wspace=2/3,hspace=0)\n",
    "\n",
    "fig.text(0.2,0.94,r\"Sensitivity and stability vs. $\\theta_{xy}$ and $\\alpha$\",fontsize=22)\n",
    "\n",
    "# fig.savefig(\"2a_sensitivity&stability_vs_theta&alpha.eps\",format=\"eps\",dpi=2000,bbox_inches=\"tight\",pad_inches=0.15)"
   ]
  }
 ],
 "metadata": {
  "kernelspec": {
   "display_name": "Python 3 (ipykernel)",
   "language": "python",
   "name": "python3"
  },
  "language_info": {
   "codemirror_mode": {
    "name": "ipython",
    "version": 3
   },
   "file_extension": ".py",
   "mimetype": "text/x-python",
   "name": "python",
   "nbconvert_exporter": "python",
   "pygments_lexer": "ipython3",
   "version": "3.9.12"
  }
 },
 "nbformat": 4,
 "nbformat_minor": 5
}
