{
 "cells": [
  {
   "cell_type": "code",
   "execution_count": 7,
   "id": "9eaec9c9",
   "metadata": {},
   "outputs": [
    {
     "data": {
      "text/html": [
       "<style>.container { width:100% !important; }</style>"
      ],
      "text/plain": [
       "<IPython.core.display.HTML object>"
      ]
     },
     "metadata": {},
     "output_type": "display_data"
    }
   ],
   "source": [
    "import math\n",
    "import numpy as np\n",
    "import scipy.special as sp\n",
    "import random as rand\n",
    "import pandas as pd\n",
    "import matplotlib.pyplot as plt\n",
    "from matplotlib.ticker import FuncFormatter\n",
    "from numba import jit,int64,float64\n",
    "import time\n",
    "import scipy.optimize as sciopt\n",
    "%matplotlib inline\n",
    "\n",
    "#To increase cell width:\n",
    "from IPython.display import display, HTML\n",
    "display(HTML(\"<style>.container { width:100% !important; }</style>\"))\n",
    "\n",
    "#Color-blind friendly colors to plot:\n",
    "CB_colors = ['#377eb8', '#ff7f00', '#4daf4a','#f781bf', '#a65628', '#984ea3','#999999', '#e41a1c', '#dede00']"
   ]
  },
  {
   "cell_type": "code",
   "execution_count": 8,
   "id": "627dfa58",
   "metadata": {},
   "outputs": [],
   "source": [
    "#Parameters - self-activation a, cross-repression r, decay k, noise alpha:\n",
    "a = np.array([0,0])\n",
    "r = np.array([1,1])\n",
    "k = np.array([1,1])\n",
    "alpha = np.array([0.1,0.1])\n",
    "#Hill coefficients:\n",
    "n = np.array([[4,4],[4,4]])\n",
    "theta = np.array([[0.5,0.5],[0.5,0.5]])\n",
    "\n",
    "#The total time and dt::\n",
    "T = 40\n",
    "dt = 0.005\n",
    "#Other time-related variables related to these two:\n",
    "Nt = round(T/dt)\n",
    "sqrt_dt = np.sqrt(dt)\n",
    "TimeRange = np.linspace(0,T,num=Nt)\n",
    "# #This is to calculate the dynamic threshold moving average:\n",
    "# timeBase = 2*int(Nt/100)\n",
    "# #Time to plot utility against:\n",
    "# time_trunc = TimeRange[int((timeBase/2)-1):-int(timeBase/2)]\n",
    "\n",
    "#Let's call num_traj the number of trajectories:\n",
    "num_traj = 10000\n",
    "\n",
    "#The threshold above which we say x_i is high:\n",
    "thresh = np.array([0.8,0.8])\n",
    "#The stability threshold; a trajectory has to stay above this:\n",
    "stability_thresh = 0.9\n",
    "\n",
    "#A minimum tolerance:\n",
    "eps = 1e-6"
   ]
  },
  {
   "cell_type": "code",
   "execution_count": 9,
   "id": "f237f36f",
   "metadata": {},
   "outputs": [],
   "source": [
    "#Self-activation:\n",
    "@jit(nopython=True)\n",
    "def activation(x,a,n,theta):\n",
    "    if (x>=0):\n",
    "        return (a*x**n)/(x**n + theta**n)\n",
    "    else:\n",
    "        return 0\n",
    "\n",
    "#Cross-inhibition\n",
    "@jit(nopython=True)\n",
    "def repression(x,r,n,theta):\n",
    "    if (x>0):\n",
    "        return (r*theta**n)/(x**n + theta**n)\n",
    "    else:\n",
    "        return 0\n",
    "\n",
    "# #Bias (for external signals):\n",
    "# @jit(nopython=True)\n",
    "# def ext_bias(x1,x2,scale1,scale2,t):\n",
    "# #     return (x1-x2,x2-x1)\n",
    "#     temp = 0\n",
    "#     return (temp,0)\n",
    "\n",
    "#Constant external bias:\n",
    "@jit(nopython=True)\n",
    "def ext_bias_const(field):\n",
    "    return (field,0)\n",
    "    \n",
    "# #This solves the system fwd using simple Euler-Maruyama:\n",
    "# @jit(nopython=True)\n",
    "# def Solver(initial,a,r,k,n,theta,alpha):\n",
    "#     final = np.empty((2,num_traj,Nt))\n",
    "#     final[:,:,0] = initial\n",
    "#     #Solving the system forward in time:\n",
    "#     for i in range(num_traj):\n",
    "#         for t in range(1,Nt):\n",
    "#             #Equation for first species:\n",
    "#             temp = np.sqrt(np.maximum(final[0,i,t-1],0.01))\n",
    "#             noise = rand.normalvariate(0,alpha[0]*temp)\n",
    "#             final[0,i,t] = final[0,i,t-1] + dt*(activation(final[0,i,t-1],a[0],n[0,0],theta[0,0]) \\\n",
    "#                                                + repression(final[1,i,t-1],r[0],n[1,0],theta[1,0]) \\\n",
    "#                                                - k[0]*final[0,i,t-1] + ext_bias(final[0,i,t-1],final[1,i,t-1],t)[0]) \\\n",
    "#                                                 + sqrt_dt*noise\n",
    "#             #Equation for second:\n",
    "#             temp = np.sqrt(np.maximum(final[1,i,t-1],0.01))\n",
    "#             noise = rand.normalvariate(0,alpha[1]*temp)\n",
    "#             final[1,i,t] = final[1,i,t-1] + dt*(activation(final[1,i,t-1],a[1],n[1,1],theta[1,1]) \\\n",
    "#                                                + repression(final[0,i,t-1],r[1],n[0,1],theta[0,1]) \\\n",
    "#                                                - k[1]*final[1,i,t-1] + ext_bias(final[0,i,t-1],final[1,i,t-1],t)[1]) \\\n",
    "#                                                 + sqrt_dt*noise\n",
    "#     return final\n",
    "\n",
    "#A solver with some constant extrinsic bias:\n",
    "@jit(nopython=True)\n",
    "def Solver_const_ext_bias(initial,a,r,k,n,theta,alpha,ext_bias_field):\n",
    "    final = np.empty((2,num_traj,Nt))\n",
    "    final[:,:,0] = initial\n",
    "    #Solving the system forward in time:\n",
    "    for i in range(num_traj):\n",
    "        for t in range(1,Nt):\n",
    "            #Equation for first species:\n",
    "            temp = np.sqrt(np.maximum(final[0,i,t-1],0.01))\n",
    "            noise = rand.normalvariate(0,alpha[0]*temp)\n",
    "            final[0,i,t] = final[0,i,t-1] + dt*(activation(final[0,i,t-1],a[0],n[0,0],theta[0,0]) \\\n",
    "                                               + repression(final[1,i,t-1],r[0],n[1,0],theta[1,0]) \\\n",
    "                                               - k[0]*final[0,i,t-1] + ext_bias_const(ext_bias_field)[0]) \\\n",
    "                                                + sqrt_dt*noise\n",
    "            #Equation for second:\n",
    "            temp = np.sqrt(np.maximum(final[1,i,t-1],0.01))\n",
    "            noise = rand.normalvariate(0,alpha[1]*temp)\n",
    "            final[1,i,t] = final[1,i,t-1] + dt*(activation(final[1,i,t-1],a[1],n[1,1],theta[1,1]) \\\n",
    "                                               + repression(final[0,i,t-1],r[1],n[0,1],theta[0,1]) \\\n",
    "                                               - k[1]*final[1,i,t-1] + ext_bias_const(ext_bias_field)[1]) \\\n",
    "                                                + sqrt_dt*noise\n",
    "    return final\n",
    "\n",
    "\n",
    "#Classifier:\n",
    "# @jit(nopython=True)\n",
    "def fate_classifier(traj):\n",
    "    #Stability factor of trajectories:\n",
    "    cross_flags = np.zeros((2,num_traj))\n",
    "    cross_times = np.ones((2,num_traj))*Nt\n",
    "    for axis_idx in range(2):\n",
    "        #Axis crossings:\n",
    "        for traj_idx in range(num_traj):\n",
    "            if (np.size(np.where(traj[axis_idx,traj_idx]>thresh[axis_idx])[0]) != 0):\n",
    "                cross_flags[axis_idx,traj_idx] = 1\n",
    "                cross_times[axis_idx,traj_idx] = np.where(traj[axis_idx,traj_idx]>thresh[axis_idx])[0][0]\n",
    "                    \n",
    "    #Stability factor: after the threshold is crossed, how much time the traj spends above it:\n",
    "    stability_factrs = np.zeros((2,num_traj))\n",
    "    for axis_idx in range(2):\n",
    "        for traj_idx in range(num_traj):\n",
    "#             if (cross_flags[axis_idx,traj_idx]==0):\n",
    "#                 stability_factrs[axis_idx,traj_idx] = -1\n",
    "            if (cross_flags[axis_idx,traj_idx]==1):\n",
    "                stability_factrs[axis_idx,traj_idx] = np.sum(traj[axis_idx,traj_idx,int(cross_times[axis_idx,traj_idx]):]>thresh[axis_idx])\\\n",
    "                /len(traj[axis_idx,traj_idx,int(cross_times[axis_idx,traj_idx]):])\n",
    "    \n",
    "    #Stability threshold - trajectories that spend more than this above the concentration threshold are considered committed:\n",
    "#     stability_thresh = 0.8\n",
    "    #Classifying fates:\n",
    "    fates = np.zeros((2,num_traj))\n",
    "    for axis_idx in range(2):\n",
    "        for traj_idx in range(num_traj):\n",
    "            if (cross_times[axis_idx,traj_idx]<=int(Nt/2) and stability_factrs[axis_idx,traj_idx]>=stability_thresh):\n",
    "                fates[axis_idx,traj_idx]=1\n",
    "                \n",
    "    return stability_factrs,fates\n",
    "\n",
    "def fate_fractions(fates):\n",
    "    #Initializing:\n",
    "    fate_frax = np.zeros(4)\n",
    "    fate_frax[0] = np.sum((fates[0]==0) & (fates[1]==0))/num_traj\n",
    "    fate_frax[1] = np.sum((fates[0]==1) & (fates[1]==0))/num_traj\n",
    "    fate_frax[2] = np.sum((fates[0]==0) & (fates[1]==1))/num_traj\n",
    "    fate_frax[3] = np.sum((fates[0]==1) & (fates[1]==1))/num_traj\n",
    "    \n",
    "    return fate_frax\n",
    "\n",
    "def traj_moments(traj,fates):\n",
    "    #Finding the fate fractions first:\n",
    "    fate_frax = fate_fractions(fates)\n",
    "    \n",
    "    #Flags, if fate_frac is zero for a fate then no avg or std is calculated:\n",
    "    fate_flags = np.array([False for i in range(4)])\n",
    "    \n",
    "    #Flag = True if that fate exists in the population:\n",
    "    for fate_idx in range(4):\n",
    "        if (fate_frax[fate_idx] != 0):\n",
    "            fate_flags[fate_idx] = True\n",
    "            \n",
    "    #Average trajectories and standard deviation around them:\n",
    "    avg_traj = np.zeros((4,2,Nt))\n",
    "    std_traj = np.zeros((4,2,Nt))\n",
    "    \n",
    "    if (fate_flags[0]==True):\n",
    "        avg_traj[0,:,:] = np.mean(traj[:,(fates[0]==0) & (fates[1]==0),:],axis=1)\n",
    "        std_traj[0,:,:] = np.std(traj[:,(fates[0]==0) & (fates[1]==0),:],axis=1)\n",
    "\n",
    "    if (fate_flags[1]==True):\n",
    "        avg_traj[1,:,:] = np.mean(traj[:,(fates[0]==1) & (fates[1]==0),:],axis=1)\n",
    "        std_traj[1,:,:] = np.std(traj[:,(fates[0]==1) & (fates[1]==0),:],axis=1)\n",
    "\n",
    "    if (fate_flags[2]==True):\n",
    "        avg_traj[2,:,:] = np.mean(traj[:,(fates[0]==0) & (fates[1]==1),:],axis=1)\n",
    "        std_traj[2,:,:] = np.std(traj[:,(fates[0]==0) & (fates[1]==1),:],axis=1)\n",
    "\n",
    "    if (fate_flags[3]==True):\n",
    "        avg_traj[3,:,:] = np.mean(traj[:,(fates[0]==1) & (fates[1]==1),:],axis=1)\n",
    "        std_traj[3,:,:] = np.std(traj[:,(fates[0]==1) & (fates[1]==1),:],axis=1)\n",
    "        \n",
    "    return (avg_traj,std_traj)"
   ]
  },
  {
   "cell_type": "code",
   "execution_count": 10,
   "id": "1950d6f2",
   "metadata": {},
   "outputs": [
    {
     "name": "stdout",
     "output_type": "stream",
     "text": [
      "0.0\n"
     ]
    },
    {
     "data": {
      "image/png": "[encoded data removed]",
      "text/plain": [
       "<Figure size 432x288 with 1 Axes>"
      ]
     },
     "metadata": {
      "needs_background": "light"
     },
     "output_type": "display_data"
    }
   ],
   "source": [
    "#The initial conditions:\n",
    "x0 = np.zeros((2,num_traj))\n",
    "#Starting at the saddle point (0.5,0.5):\n",
    "# x0 = 0.5*np.ones((2,num_traj))\n",
    "# #Uniform around mean:\n",
    "# init_bias = 0\n",
    "# x0[0,:] = init_bias*np.ones(num_traj)\n",
    "\n",
    "#For a total (constant) bump of 0.1, we need to apply 0.1/T at each timestep:\n",
    "ext_bias_field = 0/T\n",
    "ext_bias_dyn = ext_bias_field*np.ones_like(TimeRange)\n",
    "\n",
    "plt.plot(TimeRange,ext_bias_dyn,color='k')\n",
    "plt.xlabel(r\"Time $t$\",fontsize=18)\n",
    "plt.ylabel(r\"ext. field $h_x$\",fontsize=18)\n",
    "plt.title(\"External bias vs. time\",fontsize=20)\n",
    "\n",
    "print(np.trapz(ext_bias_dyn,x=TimeRange))"
   ]
  },
  {
   "cell_type": "code",
   "execution_count": 11,
   "id": "bf92316a",
   "metadata": {},
   "outputs": [
    {
     "name": "stdout",
     "output_type": "stream",
     "text": [
      "Time taken: 14.094251871109009 s.\n"
     ]
    }
   ],
   "source": [
    "#Generating some trajectories:\n",
    "start_time = time.time()\n",
    "traj_simple = np.empty((2,num_traj,Nt))\n",
    "traj_simple = Solver_const_ext_bias(x0,a,r,k,n,theta,alpha,ext_bias_field)\n",
    "end_time = time.time()\n",
    "loop_time = end_time - start_time\n",
    "print(f\"Time taken: {loop_time} s.\")"
   ]
  },
  {
   "cell_type": "code",
   "execution_count": 12,
   "id": "41b54519",
   "metadata": {},
   "outputs": [
    {
     "name": "stdout",
     "output_type": "stream",
     "text": [
      "[[0.99985846 0.         0.         ... 0.99082691 0.         0.        ]\n",
      " [0.         0.99804305 0.99466046 ... 0.         0.99822671 0.99904567]]\n",
      "(4, 2, 8000)\n",
      "[0.     0.4999 0.5001 0.    ]\n"
     ]
    }
   ],
   "source": [
    "#Now testing the fates and stability factors:\n",
    "stability_factrs,fates = fate_classifier(traj_simple)\n",
    "fate_frax = fate_fractions(fates)\n",
    "avg_traj,std_traj = traj_moments(traj_simple,fates)\n",
    "#Fate fractions:\n",
    "print(stability_factrs)\n",
    "print(np.shape(avg_traj))\n",
    "print(fate_frax)"
   ]
  },
  {
   "cell_type": "code",
   "execution_count": null,
   "id": "b0b663d5",
   "metadata": {},
   "outputs": [],
   "source": [
    "#Defining our grid points and making the grid:\n",
    "x = np.arange(0, 2*(a[0]+r[0]), 0.1)\n",
    "y = np.arange(0, 2*(a[1]+r[1]), 0.1)\n",
    "X, Y = np.meshgrid(x, y)\n",
    "\n",
    "#The velocity field:\n",
    "x_dot = (a[0]*X**n[0,0])/(X**n[0,0] + theta[0,0]**n[0,0]) + (r[0]*theta[1,0]**n[1,0])/(Y**n[1,0] + theta[1,0]**n[1,0]) - k[0]*X + ext_bias_field\n",
    "y_dot = (a[1]*Y**n[1,1])/(Y**n[1,1] + theta[1,1]**n[1,1]) + (r[1]*theta[0,1]**n[0,1])/(X**n[0,1] + theta[0,1]**n[0,1]) - k[1]*Y\n",
    "\n",
    "# #Only the additional x-bias:\n",
    "# x_dot = 0.01\n",
    "# y_dot = 0\n",
    " \n",
    "# creating plot\n",
    "fig, ax = plt.subplots(figsize =(6.4, 6.4))\n",
    "ax.quiver(X, Y, x_dot, y_dot)\n",
    "#Diagonal:\n",
    "ax.plot([0, 1],[0, 1],transform=ax.transAxes,color='k',ls=':')\n",
    "#Thresholds:\n",
    "ax.axvline(thresh[0],color='k',ls=':')\n",
    "ax.axhline(thresh[1],color='k',ls=':')\n",
    "\n",
    "#Total state space visited, all:\n",
    "ax.scatter(traj_simple[0,(fates[0]==0)&(fates[1]==0),:],traj_simple[1,(fates[0]==0)&(fates[1]==0),:],color=CB_colors[0],marker=\"o\",alpha=0.01)\n",
    "ax.scatter(traj_simple[0,(fates[0]==1)&(fates[1]==0),:],traj_simple[1,(fates[0]==1)&(fates[1]==0),:],color=CB_colors[1],marker=\"o\",alpha=0.01)\n",
    "ax.scatter(traj_simple[0,(fates[0]==0)&(fates[1]==1),:],traj_simple[1,(fates[0]==0)&(fates[1]==1),:],color=CB_colors[2],marker=\"o\",alpha=0.01)\n",
    "ax.scatter(traj_simple[0,(fates[0]==1)&(fates[1]==1),:],traj_simple[1,(fates[0]==1)&(fates[1]==1),:],color=CB_colors[3],marker=\"o\",alpha=0.01)\n",
    "\n",
    "# # Final points:\n",
    "# ax.scatter(traj_simple[0,(fates[0]==0)&(fates[1]==0),-1],traj_simple[1,(fates[0]==0)&(fates[1]==0),-1],color=CB_colors[0],marker=\"o\",alpha=1)\n",
    "# ax.scatter(traj_simple[0,(fates[0]==1)&(fates[1]==0),-1],traj_simple[1,(fates[0]==1)&(fates[1]==0),-1],color=CB_colors[1],marker=\"o\",alpha=1)\n",
    "# ax.scatter(traj_simple[0,(fates[0]==0)&(fates[1]==1),-1],traj_simple[1,(fates[0]==0)&(fates[1]==1),-1],color=CB_colors[2],marker=\"o\",alpha=1)\n",
    "# ax.scatter(traj_simple[0,(fates[0]==1)&(fates[1]==1),-1],traj_simple[1,(fates[0]==1)&(fates[1]==1),-1],color=CB_colors[3],marker=\"o\",alpha=1) \n",
    "\n",
    "ax.set_aspect('equal')\n",
    "ax.set_xlabel(r\"Marker (coordinate) $x$\",fontsize=18)\n",
    "ax.set_ylabel(r\"Marker (coordinate) $y$\",fontsize=18)\n",
    "ax.set_title(\"Flow-field and explored region\",fontsize=20)"
   ]
  },
  {
   "cell_type": "code",
   "execution_count": null,
   "id": "df7fa95d",
   "metadata": {},
   "outputs": [],
   "source": [
    "#Let's see how the trajectories look:\n",
    "fig,ax = plt.subplots(1,2,figsize=[9.6,4.8],sharey=True)\n",
    "\n",
    "ax[0].plot(TimeRange,avg_traj[1,0],c=CB_colors[1],label=\"x\")\n",
    "ax[0].fill_between(TimeRange,avg_traj[1,0]-std_traj[1,0],avg_traj[1,0]+std_traj[1,0],color=CB_colors[1],alpha=0.5)\n",
    "ax[0].plot(TimeRange,avg_traj[1,1],c=CB_colors[2],label=\"y\")\n",
    "ax[0].fill_between(TimeRange,avg_traj[1,1]-std_traj[1,1],avg_traj[1,1]+std_traj[1,1],color=CB_colors[2],alpha=0.5)\n",
    "ax[0].axhline(thresh[0],color='k',ls='--')\n",
    "ax[0].set_xlabel(r\"Time $t$\",fontsize=18)\n",
    "ax[0].set_ylabel(r\"$x$ and $y$\",fontsize=18)\n",
    "ax[0].legend(loc=\"best\",fontsize=12)\n",
    "ax[0].set_title(\"Cells that choose fate 1\",fontsize=20)\n",
    "\n",
    "ax[1].plot(TimeRange,avg_traj[2,0],c=CB_colors[1],label=\"x\")\n",
    "ax[1].fill_between(TimeRange,avg_traj[2,0]-std_traj[2,0],avg_traj[2,0]+std_traj[2,0],color=CB_colors[1],alpha=0.5)\n",
    "ax[1].plot(TimeRange,avg_traj[2,1],c=CB_colors[2],label=\"y\")\n",
    "ax[1].fill_between(TimeRange,avg_traj[2,1]-std_traj[2,1],avg_traj[2,1]+std_traj[2,1],color=CB_colors[2],alpha=0.5)\n",
    "ax[1].axhline(thresh[0],color='k',ls='--')\n",
    "ax[1].set_xlabel(r\"Time $t$\",fontsize=18)\n",
    "ax[1].legend(loc=\"best\",fontsize=12)\n",
    "ax[1].set_title(\"Cells that choose fate 2\",fontsize=20)\n",
    "\n",
    "fig.suptitle(fr\"Average trajectories\",fontsize=22,y=1.02)"
   ]
  },
  {
   "cell_type": "code",
   "execution_count": null,
   "id": "aad1bf32",
   "metadata": {},
   "outputs": [],
   "source": [
    "#Now let's vary the constant external bias, keeping theta and noise fixed:\n",
    "ext_bias_arr = np.array([i/100 for i in range(11)])/T\n",
    "fate_frax_bias = np.zeros((len(ext_bias_arr),4))\n",
    "\n",
    "for ext_bias_idx in range(len(ext_bias_arr)):\n",
    "#     print(f\"field: {ext_bias_arr[ext_bias_idx]}\")\n",
    "#     print(f\"time integral of field: {np.trapz(ext_bias_arr[ext_bias_idx]*np.ones_like(TimeRange),x=TimeRange)}\\n\")\n",
    "    \n",
    "    #Generating the constant external field:\n",
    "    field = ext_bias_arr[ext_bias_idx]\n",
    "    \n",
    "    #Initial conditions, exactly at (0,0):\n",
    "    x0 = np.zeros((2,num_traj))\n",
    "    \n",
    "    #Time evolution given the constant external field:\n",
    "    traj_ext_bias = np.empty((2,num_traj,Nt))\n",
    "    traj_ext_bias = Solver_const_ext_bias(x0,a,r,k,n,theta,alpha,field)\n",
    "    \n",
    "    #Calculating stabilities and fate fractions:\n",
    "    stability_factrs,fates = fate_classifier(traj_ext_bias)\n",
    "    fate_frax_bias[ext_bias_idx] = fate_fractions(fates)\n",
    "#     avg_traj,std_traj = traj_moments(traj_ext_bias,fates)    "
   ]
  },
  {
   "cell_type": "code",
   "execution_count": null,
   "id": "f876ea97",
   "metadata": {},
   "outputs": [],
   "source": [
    "plt.scatter(ext_bias_arr,fate_frax_bias[:,1])"
   ]
  },
  {
   "cell_type": "code",
   "execution_count": null,
   "id": "bc0dc9f2",
   "metadata": {},
   "outputs": [],
   "source": [
    "fate_frax_bias"
   ]
  },
  {
   "cell_type": "code",
   "execution_count": 6,
   "id": "e5bf3a7d",
   "metadata": {},
   "outputs": [
    {
     "ename": "NameError",
     "evalue": "name 'X' is not defined",
     "output_type": "error",
     "traceback": [
      "\u001b[0;31m---------------------------------------------------------------------------\u001b[0m",
      "\u001b[0;31mNameError\u001b[0m                                 Traceback (most recent call last)",
      "Input \u001b[0;32mIn [6]\u001b[0m, in \u001b[0;36m<cell line: 1>\u001b[0;34m()\u001b[0m\n\u001b[0;32m----> 1\u001b[0m \u001b[43mX\u001b[49m\n",
      "\u001b[0;31mNameError\u001b[0m: name 'X' is not defined"
     ]
    }
   ],
   "source": [
    "X"
   ]
  },
  {
   "cell_type": "code",
   "execution_count": null,
   "id": "029c3feb",
   "metadata": {},
   "outputs": [],
   "source": []
  }
 ],
 "metadata": {
  "kernelspec": {
   "display_name": "Python 3 (ipykernel)",
   "language": "python",
   "name": "python3"
  },
  "language_info": {
   "codemirror_mode": {
    "name": "ipython",
    "version": 3
   },
   "file_extension": ".py",
   "mimetype": "text/x-python",
   "name": "python",
   "nbconvert_exporter": "python",
   "pygments_lexer": "ipython3",
   "version": "3.9.12"
  }
 },
 "nbformat": 4,
 "nbformat_minor": 5
}
